{
  "cells": [
    {
      "cell_type": "markdown",
      "metadata": {
        "id": "Fkg0H8byOe2V"
      },
      "source": [
        "# Deep Learning for NLP - Project\n",
        "\n",
        "## Implementation of Importance Sampling and NCE\n",
        "\n",
        "### Team Members\n",
        "    - Mohammed LANSARI\n",
        "    - Imad BOUHOU\n",
        "    - Ihsan ULLAH\n",
        "    - Ousmane CISSE\n",
        "    \n",
        "***"
      ]
    },
    {
      "cell_type": "markdown",
      "metadata": {
        "id": "rOGlS865toxK"
      },
      "source": [
        "# Download data :\n",
        "To run this notebook in Google Colab, we download the data from Google Drive and the uncompress it."
      ]
    },
    {
      "cell_type": "code",
      "execution_count": null,
      "metadata": {
        "id": "We8VwFXTtn-e"
      },
      "outputs": [],
      "source": [
        "#!gdown --id 1R3K-vRKde5jfuZRYS7aoMBBdceX20BOW\n",
        "#!unzip -q data_nlp.zip"
      ]
    },
    {
      "cell_type": "markdown",
      "metadata": {
        "id": "VmJvfX89Oe2a"
      },
      "source": [
        "# Imports"
      ]
    },
    {
      "cell_type": "code",
      "execution_count": null,
      "metadata": {
        "id": "C8HNItbHlNqL"
      },
      "outputs": [],
      "source": [
        "import time\n",
        "import torch\n",
        "import itertools\n",
        "torch.cuda.empty_cache()\n",
        "\n",
        "import gc\n",
        "import torch.nn as nn\n",
        "import torch.nn.functional as F\n",
        "import numpy as np\n",
        "import matplotlib.pyplot as plt\n",
        "\n",
        "from torch.nn.utils import clip_grad_norm_ , rnn\n",
        "from torch.distributions.categorical import Categorical"
      ]
    },
    {
      "cell_type": "markdown",
      "metadata": {
        "id": "ddeXQJT8t97J"
      },
      "source": [
        "We use cuda if it is available otherwise we use cpu"
      ]
    },
    {
      "cell_type": "code",
      "execution_count": null,
      "metadata": {
        "colab": {
          "base_uri": "https://localhost:8080/"
        },
        "id": "ig9GGvd9tkKK",
        "outputId": "370eb467-2fd9-4ce3-f7c2-e1a5e482caf7"
      },
      "outputs": [
        {
          "name": "stdout",
          "output_type": "stream",
          "text": [
            "cuda\n"
          ]
        }
      ],
      "source": [
        "device = torch.device('cuda' if torch.cuda.is_available() else 'cpu')\n",
        "print(device)"
      ]
    },
    {
      "cell_type": "markdown",
      "metadata": {
        "id": "HImqCK60Oe2e"
      },
      "source": [
        "# Read Data"
      ]
    },
    {
      "cell_type": "markdown",
      "metadata": {
        "id": "C-3Ogh3EOe2e"
      },
      "source": [
        "### Data Path"
      ]
    },
    {
      "cell_type": "code",
      "execution_count": null,
      "metadata": {
        "id": "nlX-NT4XtPLO"
      },
      "outputs": [],
      "source": [
        "data_path = \"data/\"\n",
        "\n",
        "path_test = data_path + \"ptb.test.txt\"\n",
        "path_train = data_path + \"ptb.train.txt\"\n",
        "path_valid = data_path + \"ptb.valid.txt\""
      ]
    },
    {
      "cell_type": "markdown",
      "metadata": {
        "id": "vD7ptxCrOe2g"
      },
      "source": [
        "### Reading file function\n",
        "This function reads a file from its path line by line, removes extra spaces from start and end of each line and stores the text as a list of sentences "
      ]
    },
    {
      "cell_type": "code",
      "execution_count": null,
      "metadata": {
        "id": "XnlDHbxVlXoc"
      },
      "outputs": [],
      "source": [
        "def read_file(path):\n",
        "    \"\"\"\n",
        "    Function to read the texts from the data\n",
        "    parameters :\n",
        "                - path : path to the file\n",
        "    return :\n",
        "            - returns a list of sentences \n",
        "    \"\"\"\n",
        "    sentences = list()\n",
        "    with open(path) as f :\n",
        "        for line in f:\n",
        "            line.strip()\n",
        "            if len(line) != 0:\n",
        "                sentences.append(line.split())\n",
        "    return sentences"
      ]
    },
    {
      "cell_type": "markdown",
      "metadata": {
        "id": "dm_zXclyOe2h"
      },
      "source": [
        "### Vocabulary class to store and access data\n",
        "Vocabulary class is used to store vocabulary in two forms:\n",
        "   - word to index\n",
        "   - index to words\n",
        "   \n",
        "Each word is mapped to a unique index. and each index is mapped back to a unique word. a counter is also kept to track the length of the vocabulary. No duplicate word is added to the vocabulary."
      ]
    },
    {
      "cell_type": "code",
      "execution_count": null,
      "metadata": {
        "id": "H3HrNvm7tcD3"
      },
      "outputs": [],
      "source": [
        "class vocabulary:\n",
        "    def __init__(self):\n",
        "        self.word2idx = {}\n",
        "        self.idx2word = {}\n",
        "        self.count = 0\n",
        "    \n",
        "    def add_word(self, word):\n",
        "        if not word in self.word2idx:\n",
        "            self.word2idx[word] = self.count\n",
        "            self.idx2word[self.count] = word\n",
        "            self.count = self.count + 1\n",
        "\n",
        "    def get_word(self , index):\n",
        "        return self.idx2word[index]\n",
        "\n",
        "    def get_index(self , word):\n",
        "        return self.word2idx[word]\n",
        "      \n",
        "    def __len__(self):\n",
        "        return self.count"
      ]
    },
    {
      "cell_type": "markdown",
      "metadata": {
        "id": "AJFDVPb3Oe2i"
      },
      "source": [
        "### Read Train, Valid, Test data"
      ]
    },
    {
      "cell_type": "code",
      "execution_count": null,
      "metadata": {
        "id": "jnnwVZBlzkx2"
      },
      "outputs": [],
      "source": [
        "train_data = read_file(path_train)\n",
        "valid_data = read_file(path_valid)\n",
        "test_data = read_file(path_test)"
      ]
    },
    {
      "cell_type": "markdown",
      "metadata": {
        "id": "G0t5ykI-Oe2i"
      },
      "source": [
        "### Create vocabulary from Training data\n",
        "The vocabulary is created from the training data and additional two words i.e. *< bos >* and *< eos >* are added to the vocabulary."
      ]
    },
    {
      "cell_type": "code",
      "execution_count": null,
      "metadata": {
        "id": "N_tcJE-MsCX0"
      },
      "outputs": [],
      "source": [
        "vocab = vocabulary()\n",
        "for sentence in train_data:\n",
        "    for word in sentence:\n",
        "        vocab.add_word(word)\n",
        "    \n",
        "vocab.add_word(\"<bos>\")\n",
        "vocab.add_word(\"<eos>\")"
      ]
    },
    {
      "cell_type": "markdown",
      "metadata": {
        "id": "du3pwjmCOe2j"
      },
      "source": [
        "### Convert data to Tensors\n",
        "This function is used to convert a sentence to a Pytorch Tensor.\n",
        "\n",
        "Each sentence represents words in the form of numbers i.e. the unique indices. Before conversion into Tensor, the index of **< bos >** is concatinated at the start and index of **< eos >** to the end of the sentence."
      ]
    },
    {
      "cell_type": "code",
      "execution_count": null,
      "metadata": {
        "id": "_oIRsH0xzTCO"
      },
      "outputs": [],
      "source": [
        "def sentence_to_tensor(sentence):\n",
        "    \"\"\"\n",
        "    Function to transform the sentences to tensors\n",
        "    parameters :\n",
        "                - sentence : list of integers (words)\n",
        "    return :\n",
        "            - returns an equivalent tensor to the sentence\n",
        "    \"\"\"\n",
        "    sentence = [vocab.get_index(word) for word in sentence]\n",
        "    bos = vocab.get_index(\"<bos>\")\n",
        "    eos = vocab.get_index(\"<eos>\")\n",
        "    full_sentence = [bos] + sentence + [eos]\n",
        "    return torch.tensor(full_sentence)"
      ]
    },
    {
      "cell_type": "markdown",
      "metadata": {
        "id": "VCwKwPIZOe2k"
      },
      "source": [
        "### Extracting sentences and their masks from data\n",
        "Because all sentences do not have equal number of words, we have to add zero padding before giving them as inputs to the model. To make sure that we do not compute gradients for the padded part of the sentence, we create masks for each sentence. The masks have True values for the actual part of sentence and False values for the padded part of the sentence."
      ]
    },
    {
      "cell_type": "code",
      "execution_count": null,
      "metadata": {
        "id": "xCy8sbNT1VQq"
      },
      "outputs": [],
      "source": [
        "# Training sentences and masks\n",
        "train_sentences = [sentence_to_tensor(train_data[j]) for j in range(len(train_data))]\n",
        "train_masks = [torch.ones_like(train_sentences[i]) for i in range(len(train_sentences))]\n",
        "\n",
        "# Validation sentences and masks\n",
        "valid_sentences = [sentence_to_tensor(valid_data[j]) for j in range(len(valid_data))]\n",
        "valid_masks = [torch.ones_like(valid_sentences[i]) for i in range(len(valid_sentences))]\n",
        "\n",
        "# Test sensentes and masks\n",
        "test_sentences = [sentence_to_tensor(test_data[j]) for j in range(len(test_data))]\n",
        "test_masks = [torch.ones_like(test_sentences[i]) for i in range(len(test_sentences))]"
      ]
    },
    {
      "cell_type": "markdown",
      "metadata": {
        "id": "CwnxNDkVteWW"
      },
      "source": [
        "# Compute Frequencies of each word :\n",
        "We compute frequencies for each word in the vocabulary. We also normalizes the frequencies"
      ]
    },
    {
      "cell_type": "code",
      "execution_count": null,
      "metadata": {
        "id": "-et0vub2tdWi"
      },
      "outputs": [],
      "source": [
        "indexes, freqs = np.unique(\n",
        "    np.concatenate([s.numpy() for s in train_sentences]),\n",
        "    return_counts=True\n",
        "    )\n",
        "\n",
        "freqs = freqs/np.sum(freqs)"
      ]
    },
    {
      "cell_type": "markdown",
      "metadata": {
        "id": "uaM89UIiOe2m"
      },
      "source": [
        "# Hyper parameters\n",
        "We define hyper-parameters to be used for training the Language Model"
      ]
    },
    {
      "cell_type": "code",
      "execution_count": null,
      "metadata": {
        "id": "MkUB5MaR7oGj"
      },
      "outputs": [],
      "source": [
        "vocab_size = len(vocab)\n",
        "embed_size = 128\n",
        "hidden_size = 128\n",
        "num_layers = 1\n",
        "num_epochs = 50\n",
        "batch_size = 512"
      ]
    },
    {
      "cell_type": "markdown",
      "metadata": {
        "id": "QWL_FLhtt97Q"
      },
      "source": [
        "Cross Entropy Loss to check performance of the model"
      ]
    },
    {
      "cell_type": "code",
      "execution_count": null,
      "metadata": {
        "id": "42rWextqn0zY"
      },
      "outputs": [],
      "source": [
        "CE_loss = nn.CrossEntropyLoss()"
      ]
    },
    {
      "cell_type": "markdown",
      "metadata": {
        "id": "_xnw78TPOe2m"
      },
      "source": [
        "# Create a batch of data"
      ]
    },
    {
      "cell_type": "code",
      "execution_count": null,
      "metadata": {
        "id": "ne0IHzNnAdyj"
      },
      "outputs": [],
      "source": [
        "def get_batch(data , masks , batch_size):\n",
        "    \"\"\"\n",
        "    Function to yields batchs for the training\n",
        "    parameters :\n",
        "                - data : list of tensors\n",
        "                - masks : binary masks for each sentence to know the \n",
        "                          original words before padding.\n",
        "                - batch_size : the batch size to use\n",
        "    return :\n",
        "            - returns a tuple (inputs , targets , mask_out)\n",
        "            - inputs : the sentences of the input.\n",
        "            - targets : the target labels.\n",
        "            - mask_out : the mask associated with the targets.\n",
        "    \"\"\"\n",
        "    \n",
        "    # loop over data with an interval of batch_size\n",
        "    for i in range(0, len(data)-batch_size, batch_size):\n",
        "        \n",
        "        # extract a input batch from start index to the batch_size index\n",
        "        s = data[i:(i+batch_size)]\n",
        "        \n",
        "        # extract a mask batch from start index to the batch_size index\n",
        "        s_mask = masks[i:(i+batch_size)]\n",
        "\n",
        "        # pad the inputs with the value = vocab size\n",
        "        # because 0 is used as an index for the first word in the vocabulary\n",
        "        inputs = rnn.pad_sequence(s, batch_first = True, padding_value = vocab_size)\n",
        "        \n",
        "        # pad the mask with default value = 0/False\n",
        "        mask_tensor = rnn.pad_sequence(s_mask, batch_first = True).type(torch.bool)\n",
        "        \n",
        "        # create targets which are the next words for each input\n",
        "        targets = inputs[: , 1:]\n",
        "        # create mask fro targets\n",
        "        mask_out = mask_tensor[: , 1:]\n",
        "        \n",
        "        # remove the last word from inputs\n",
        "        inputs = inputs[: , :-1]\n",
        "\n",
        "        \n",
        "        # set to a device\n",
        "        inputs, targets, mask_out = inputs.to(device), targets.to(device), mask_out.to(device)\n",
        "        \n",
        "        yield (inputs , targets , mask_out)"
      ]
    },
    {
      "cell_type": "markdown",
      "metadata": {
        "id": "qNJJqlRWOe2n"
      },
      "source": [
        "# Model"
      ]
    },
    {
      "cell_type": "code",
      "execution_count": null,
      "metadata": {
        "id": "lacdxDPkw6Kz"
      },
      "outputs": [],
      "source": [
        "class lm(nn.Module):\n",
        "    def __init__(self, vocab_size, embed_size, hidden_size, num_layers, initialise_bias = False):\n",
        "        super(lm, self).__init__()\n",
        "        \n",
        "        # Create an embedding layer\n",
        "        self.embed = nn.Embedding(vocab_size + 1, \n",
        "                                  embed_size, \n",
        "                                  padding_idx = vocab_size)\n",
        "        \n",
        "        # Create LSTM layer\n",
        "        self.lstm = nn.LSTM(embed_size, hidden_size, num_layers, batch_first=True)\n",
        "        \n",
        "        # Create linear layer\n",
        "        self.linear = nn.Linear(hidden_size, vocab_size)\n",
        "        \n",
        "        # initialize bias of the linear layer with parameters of the Unigram\n",
        "        if initialise_bias:\n",
        "            self.linear.bias.data = torch.tensor(np.log(freqs + 1e-10))\n",
        "        \n",
        "    def forward(self, x):\n",
        "        \n",
        "        # get embeddings of x\n",
        "        x = self.embed(x)\n",
        "        \n",
        "        # get output from LSTM\n",
        "        out, _ = self.lstm(x)\n",
        "        \n",
        "        # apply linear transformation\n",
        "        out = self.linear(out)\n",
        "        \n",
        "        return out"
      ]
    },
    {
      "cell_type": "markdown",
      "metadata": {
        "id": "ydak1JU8Oe2n"
      },
      "source": [
        "# Importance Sampling Loss\n",
        "\n",
        "**Loss Function**  \n",
        "$    \\frac{\\partial}{\\partial \\theta} log P_{\\theta}(w|S) \\approx \\frac{\\partial}{\\partial \\theta} f_{\\theta}(w,S) - \\frac{1}{k} \\frac{1}{Z_{\\theta}(S)} \n",
        "    \\sum \\limits_{\\underset{\\hat{w_i} \\sim Q}{i=1}}^k \\frac{exp(f_{\\theta}(\\hat{w_i},S))}{Q(\\hat{w_i})} \\frac{\\partial}{\\partial \\theta} f_{\\theta}(\\hat{w_i},S)\n",
        "$\n",
        "\n",
        "**Partition Function $Z$**  \n",
        "$\n",
        "Z_{\\theta}(S) \\approx \\frac{1}{k} \\sum \\limits_{\\underset{\\hat{w_i} \\sim Q}{i=1}}^k \\frac{exp(f_{\\theta}(\\hat{w_i},S))}{Q(\\hat{w_i})}\n",
        "$\n"
      ]
    },
    {
      "cell_type": "code",
      "execution_count": null,
      "metadata": {
        "id": "3KH9D3slzajQ"
      },
      "outputs": [],
      "source": [
        "class ImportanceSamplingLoss(nn.Module):\n",
        "    def __init__(self, Q, Ns=500):\n",
        "        super(ImportanceSamplingLoss, self).__init__()\n",
        "        \n",
        "        # initialize the noise distribution Q\n",
        "        self.Q = Q  \n",
        "        \n",
        "        # initialize number of samples (to be used in approximation)\n",
        "        self.Ns = Ns \n",
        "        \n",
        "    def forward(self, outputs, targets):\n",
        "        \n",
        "        bs = outputs.size(0) \n",
        "        \n",
        "        \n",
        "        rows = torch.tensor( [list(range(bs))] * self.Ns)\n",
        "        rows = torch.transpose(rows , 0  , 1)\n",
        "\n",
        "        # sample from the Noise distribution Q\n",
        "        # Ns * bs because for each word in batch, we want Ns samples\n",
        "        wi = self.Q.sample(torch.Size([self.Ns * bs]))\n",
        "        \n",
        "        # Get probability for w_i\n",
        "        q  = self.Q.probs[wi].to(device)\n",
        "        \n",
        "        # Reshape the sample and probability\n",
        "        wi = wi.reshape(-1,self.Ns)\n",
        "        q  = q.reshape(-1,self.Ns)\n",
        "\n",
        "        # Compute Z = Sum_k(exp(s_theata)/q)\n",
        "        Z = (torch.exp(outputs[rows, wi])/q).mean(-1)\n",
        "\n",
        "        # Sample from Q \n",
        "        wi = self.Q.sample(torch.Size([self.Ns * bs]))\n",
        "        # Get probability of w_i\n",
        "        q  = self.Q.probs[wi].to(device)\n",
        "        \n",
        "        # Reshape the sample and probability\n",
        "        wi = wi.reshape(-1,self.Ns)\n",
        "        q  = q.reshape(-1,self.Ns)\n",
        "        \n",
        "        # Compute the first term in the Sum over k in the loss\n",
        "        cte  = torch.exp(outputs[rows ,wi])/q\n",
        "        \n",
        "        # Combine the terms inside the sum over k in the loss\n",
        "        cte1 = (cte.detach() * outputs[rows ,wi]).mean(-1)  \n",
        "\n",
        "        rows = torch.tensor(list(range(bs)))\n",
        "        \n",
        "        # compute the first term of the loss\n",
        "        out  = outputs[rows,targets]\n",
        "        \n",
        "        # combine all the terms in the loss\n",
        "        loss = - (out - cte1/Z.detach()).mean()\n",
        "        \n",
        "        \n",
        "        return loss, torch.log(Z)"
      ]
    },
    {
      "cell_type": "markdown",
      "metadata": {
        "id": "JxgPAhLeOe2o"
      },
      "source": [
        "# NCE Loss\n",
        "\n",
        "$\n",
        "\\frac{\\partial}{\\partial \\theta} J_{\\theta}(w) = \\frac{kQ(w)}{p_{\\theta}(w|S) + kQ(w)} \\frac{\\partial}{\\partial \\theta} \\log p_{\\theta}(w|S) - \\sum_{i=1}^k \\Big{[} \\frac{p_{\\theta}(\\hat{w_i}|S)}{p_{\\theta}(\\hat{w_i}|S) + kQ(\\hat{w_i})} \\frac{\\partial}{\\partial \\theta} \\log p_{\\theta}(\\hat{w_i} | S) \\Big{]} \n",
        "$\n",
        "\n"
      ]
    },
    {
      "cell_type": "code",
      "execution_count": null,
      "metadata": {
        "id": "9RZfvLjzqm_B"
      },
      "outputs": [],
      "source": [
        "class NCELoss(nn.Module):\n",
        "    def __init__(self, Q, Ns=100, train_partition = False, log_Z = 0.0):\n",
        "        super(NCELoss, self).__init__()\n",
        "        \n",
        "        # initialize the noise distribution Q\n",
        "        self.Q = Q\n",
        "        \n",
        "        # initialize number of samples (to be used in approximation)\n",
        "        self.Ns = Ns\n",
        "        \n",
        "        # true when we want to train Z as a parameter\n",
        "        if train_partition:\n",
        "            self.log_Z = nn.Parameter(torch.tensor([float(log_Z)]))\n",
        "        else : \n",
        "            self.log_Z = torch.tensor([0.0]).to(device)\n",
        "        \n",
        "    def forward(self, outputs, targets):\n",
        "        \n",
        "        bs = outputs.size(0)      \n",
        "        \n",
        "        outputs = outputs - self.log_Z\n",
        "        \n",
        "        rows = torch.tensor( [list(range(bs))])\n",
        "        \n",
        "        # compute exponential of score function:  p_theta = exp(s_theta)\n",
        "        exp_out = torch.exp(outputs[rows,targets]).reshape(-1)\n",
        "        \n",
        "        # sample from the Noise distribution Q\n",
        "        # Ns * bs because for each word in batch, we want Ns samples\n",
        "        wi = self.Q.sample(torch.Size([ self.Ns * bs ]))\n",
        "        \n",
        "        # Get probability for w_i\n",
        "        q = self.Q.probs[wi].to(device)\n",
        "        \n",
        "        # Reshape the sample and probability\n",
        "        wi = wi.reshape(-1,self.Ns)\n",
        "        q = q.reshape(-1,self.Ns)\n",
        "        \n",
        "\n",
        "        rows = torch.tensor( [list(range(bs))] * self.Ns)\n",
        "        rows = torch.transpose(rows , 0  , 1)\n",
        "\n",
        "        \n",
        "        # compute the numerator of the first term of loss = kQ(w)\n",
        "        kP_n = self.Ns * self.Q.probs[targets].to(device)\n",
        "        \n",
        "        # compute the first term of loss = [kQ(w)/ (kQ(w)+p_theta)] * log(p_theta) \n",
        "        first_term = (kP_n/(kP_n + exp_out )).detach() * torch.log( exp_out )\n",
        "\n",
        "        # compute the numerator inside the sum of second term of loss\n",
        "        s_exp = torch.exp(outputs[rows,wi])\n",
        "        \n",
        "        # compute the full last term of the loss = Sum_k (p_theta/(p_theta + k*q))*log(p_theta)\n",
        "        second_term = ( (s_exp/(s_exp + self.Ns * q)).detach()*torch.log(s_exp)).sum(-1)\n",
        "        \n",
        "        # combine the first and second terms of loss\n",
        "        loss = -(first_term - second_term).mean()\n",
        "        \n",
        "        return loss, self.log_Z"
      ]
    },
    {
      "cell_type": "markdown",
      "metadata": {
        "id": "xWogOZ-Wt97T"
      },
      "source": [
        "# Negative Sampling Loss\n",
        "\n",
        "$\n",
        "J_{\\theta} = - \\Big{[} \\log \\sigma (s_{\\theta} (w,S)) + \\sum_{i=1}^k \\log \\sigma (-s_{\\theta}(\\hat{w_i},S) ) \\Big{]}\n",
        "$"
      ]
    },
    {
      "cell_type": "code",
      "execution_count": null,
      "metadata": {
        "id": "74QOugBKTvG8"
      },
      "outputs": [],
      "source": [
        "class NEGLoss(nn.Module):\n",
        "    def __init__(self, Q, Ns=100):\n",
        "        super(NEGLoss, self).__init__()\n",
        "        \n",
        "        # initialize the noise distribution Q\n",
        "        self.Q = Q\n",
        "        \n",
        "        # initialize number of samples (to be used in approximation)\n",
        "        self.Ns = Ns\n",
        "        \n",
        "        # we do not want to compute log_Z\n",
        "        self.log_Z = torch.tensor([0.0]).to(device)\n",
        " \n",
        "    def forward(self, outputs, targets):\n",
        "        \n",
        "        \n",
        "        bs = outputs.size(0)      \n",
        "        rows = torch.tensor( [list(range(bs))])\n",
        "\n",
        "        # sample from the Noise distribution Q\n",
        "        # Ns * bs because for each word in batch, we want Ns samples\n",
        "        wi = self.Q.sample(torch.Size([self.Ns * bs]))\n",
        "        \n",
        "        # Get probability for w_i\n",
        "        q  = self.Q.probs[wi].to(device)\n",
        "        \n",
        "        # Reshape the sample and probability\n",
        "        wi = wi.reshape(-1,self.Ns)\n",
        "        q  = q.reshape(-1,self.Ns)\n",
        "\n",
        "        # Compute the first term of Negative sampling loss = log(sigmoid(s_theta))\n",
        "        loss_first = torch.log(torch.sigmoid(outputs[rows , targets]))\n",
        "\n",
        "        rows = torch.tensor( [list(range(bs))] * self.Ns)\n",
        "        rows = torch.transpose(rows, 0, 1)\n",
        "\n",
        "        # Compute the second term of the loss = sum over k log(sigmoid(-s_theta))\n",
        "        loss_second = torch.log(torch.sigmoid(-outputs[rows, wi])).sum(-1)\n",
        "        \n",
        "        #combine the 1st and 2nd terms of the loss\n",
        "        loss = -(loss_first + loss_second).mean()\n",
        "        \n",
        "        return loss, self.log_Z"
      ]
    },
    {
      "cell_type": "markdown",
      "metadata": {
        "id": "YC-QVdX4t97U"
      },
      "source": [
        "# Testing Function"
      ]
    },
    {
      "cell_type": "code",
      "execution_count": null,
      "metadata": {
        "id": "IsIN8wMkt97U"
      },
      "outputs": [],
      "source": [
        "def test(model):\n",
        "\n",
        "    print(\"\\n==================================\")\n",
        "    print(\"Test\")\n",
        "    print(\"==================================\")\n",
        "    \n",
        "    # put model in evaluation mode\n",
        "    model.eval()\n",
        "    \n",
        "    # start time\n",
        "    start = time.time()\n",
        "    cross_entropy_losses = []\n",
        "    \n",
        "    # loop over test batches\n",
        "    for (step , batch) in enumerate(get_batch(test_sentences, test_masks , batch_size)):\n",
        "        \n",
        "        # get batch of inputs , targets and masks\n",
        "        inputs , targets , mask_in = batch\n",
        "        \n",
        "        # output from forward function of model\n",
        "        outputs = model(inputs)\n",
        "\n",
        "        # remove padded part of outputs\n",
        "        outputs = outputs[mask_in]\n",
        "        targets = targets[mask_in]\n",
        "\n",
        "        # compute and store cross-entropy loss\n",
        "        ce_loss = CE_loss(outputs , targets).item()\n",
        "        cross_entropy_losses.append(ce_loss)\n",
        "\n",
        "    # compute duration of testing\n",
        "    duration = (time.time() - start )/60  \n",
        "    \n",
        "    # compute cross-entropy for the test set\n",
        "    test_cross_entropy_loss = np.mean(cross_entropy_losses)\n",
        "\n",
        "    print('Perplexity: {:5.2f}'.format( np.exp(test_cross_entropy_loss)) , end = '')\n",
        "    print(', CE {:.4f}'.format(test_cross_entropy_loss) , end = '')\n",
        "    print(', Duration :{:5.2f}'.format(duration))"
      ]
    },
    {
      "cell_type": "markdown",
      "metadata": {
        "id": "UPd55ZEsOe2q"
      },
      "source": [
        "# Training Function"
      ]
    },
    {
      "cell_type": "code",
      "execution_count": null,
      "metadata": {
        "id": "997w6ui9qt8_"
      },
      "outputs": [],
      "source": [
        "def train(model , optimizer , train_loss , full_data ):\n",
        "    \n",
        "    train_sentences, train_masks , batch_size = full_data\n",
        "    \n",
        "    # set model in train mode\n",
        "    model.train()\n",
        "    \n",
        "    # define lists to keep cross_entropy loss and Sum(Z)\n",
        "    ce_losses = []\n",
        "    sum_over_z = []\n",
        "    \n",
        "    # loop over epochs\n",
        "    for epoch in range(num_epochs):\n",
        "        \n",
        "        # start execution time\n",
        "        start = time.time()\n",
        "        \n",
        "        # list to store cross-entropy loss for one epoch\n",
        "        ce_loss_per_epoch = []\n",
        "        \n",
        "        # loop over batches in data\n",
        "        for (step , batch) in enumerate(get_batch(train_sentences, train_masks , batch_size)):\n",
        "            \n",
        "            # get batch of inputs , targets and masks\n",
        "            inputs , targets , mask_in = batch\n",
        "            \n",
        "            # Calling model's forward function\n",
        "            outputs = model(inputs)\n",
        "\n",
        "            # remove padded part of the output\n",
        "            outputs = outputs[mask_in]\n",
        "            targets = targets[mask_in]\n",
        "\n",
        "            # compute the training loss and partition function\n",
        "            loss, log_Z = train_loss(outputs, targets)\n",
        "\n",
        "            # keep the cross-entropy loss \n",
        "            ce_loss_per_epoch.append(CE_loss(outputs , targets).item())\n",
        "\n",
        "            # backpropagation of loss\n",
        "            optimizer.zero_grad()\n",
        "            loss.backward()\n",
        "            clip_grad_norm_(model.parameters(), 0.5)\n",
        "            optimizer.step()\n",
        "        \n",
        "        # compute the duration of one epoch\n",
        "        duration = (time.time() - start )/60  \n",
        "        \n",
        "        # store cross-entropy loss of each epoch\n",
        "        ce_losses.append(np.mean(ce_loss_per_epoch)) \n",
        "        \n",
        "        # store Sum over Z to check if it is close to 1\n",
        "        sum_over_z.append((torch.exp(outputs).sum(-1)/torch.exp(log_Z)).mean().item())\n",
        "\n",
        "        print('Epoch [{}/{}], Loss: {:.4f}, Perplexity: {:5.2f}'\n",
        "                    .format(epoch+1, num_epochs, loss.item(), np.exp(ce_losses[-1])) , end = '')\n",
        "        print(', CE {:.4f}'.format(ce_losses[-1]) , end = '')\n",
        "        print(', Normalization 1 ?= :{:5.2f}'.format(sum_over_z[-1]), end = '')\n",
        "        print(', Duration :{:5.2f}'.format(duration))\n",
        "        \n",
        "    test(model)\n",
        "    return model, ce_losses, sum_over_z"
      ]
    },
    {
      "cell_type": "markdown",
      "metadata": {
        "id": "encxmjp-Oklz"
      },
      "source": [
        "# Function to generate text :"
      ]
    },
    {
      "cell_type": "code",
      "execution_count": null,
      "metadata": {
        "id": "JqJ-oTIWOjRh"
      },
      "outputs": [],
      "source": [
        "def generate_text(model, Q , sen_length = 20):\n",
        "    \n",
        "    # set model in evaluation mode\n",
        "    model.eval()\n",
        "    \n",
        "    # initialize variables for text generation\n",
        "    generated_text = ''\n",
        "    generated_word = ''\n",
        "\n",
        "    # initialize start word from distribution Q\n",
        "    start_word = Q.sample(torch.Size([1])).to(device)\n",
        "    \n",
        "    # reshape start word\n",
        "    start_word = torch.unsqueeze(start_word, 0)\n",
        "\n",
        "    \n",
        "    iterr = 0\n",
        "    with torch.no_grad():\n",
        "        \n",
        "        # loop until <eos> is generated or if a sentence of size sen_length is generated\n",
        "        while (generated_word != '<eos>') and (iterr < sen_length):\n",
        "            \n",
        "            # output from model with input = start word\n",
        "            generated_word_index = model(start_word)\n",
        "            \n",
        "            # take argmax of the output to get output index\n",
        "            generated_word_index = torch.argmax(generated_word_index, -1).item()\n",
        "\n",
        "            # get the word for output index from vocabulary\n",
        "            generated_word = vocab.get_word(generated_word_index)\n",
        "            \n",
        "            # add the generated word to the generated text\n",
        "            generated_text +=  ' ' + generated_word\n",
        "\n",
        "            # change the start word to the current generated word\n",
        "            start_word = torch.tensor([[generated_word_index]]).to(device)\n",
        "            \n",
        "            # increment the iterator\n",
        "            iterr += 1\n",
        "            \n",
        "    return generated_text"
      ]
    },
    {
      "cell_type": "markdown",
      "metadata": {
        "id": "X7ngOBnjQVnO"
      },
      "source": [
        "***\n",
        "***\n",
        "# **Experiments**\n",
        "***\n",
        "***"
      ]
    },
    {
      "cell_type": "markdown",
      "metadata": {
        "id": "qsXSXKrAO3Xn"
      },
      "source": [
        "## Importance sampling with unigram (non-uniform) proposal distribution"
      ]
    },
    {
      "cell_type": "code",
      "execution_count": null,
      "metadata": {
        "colab": {
          "base_uri": "https://localhost:8080/"
        },
        "id": "WFe7Hj0NGySs",
        "outputId": "ba84d88f-56cf-490e-e63c-7536c2db6cb9"
      },
      "outputs": [
        {
          "name": "stdout",
          "output_type": "stream",
          "text": [
            "Epoch [1/50], Loss: -0.1906, Perplexity: 9384.17, CE 9.1468, Normalization 1 ?= : 1.01, Duration : 2.55\n",
            "Epoch [2/50], Loss: -1.3025, Perplexity: 2981.57, CE 8.0002, Normalization 1 ?= : 1.00, Duration : 2.56\n",
            "Epoch [3/50], Loss: -0.3747, Perplexity: 870.20, CE 6.7687, Normalization 1 ?= : 1.00, Duration : 2.54\n",
            "Epoch [4/50], Loss: -0.1397, Perplexity: 719.05, CE 6.5779, Normalization 1 ?= : 1.00, Duration : 2.54\n",
            "Epoch [5/50], Loss: -0.0952, Perplexity: 698.33, CE 6.5487, Normalization 1 ?= : 1.00, Duration : 2.55\n",
            "Epoch [6/50], Loss: -0.1192, Perplexity: 686.77, CE 6.5320, Normalization 1 ?= : 1.00, Duration : 2.58\n",
            "Epoch [7/50], Loss: -0.1754, Perplexity: 673.27, CE 6.5121, Normalization 1 ?= : 1.00, Duration : 2.59\n",
            "Epoch [8/50], Loss: -0.2027, Perplexity: 657.74, CE 6.4888, Normalization 1 ?= : 1.00, Duration : 2.53\n",
            "Epoch [9/50], Loss: -0.2234, Perplexity: 642.45, CE 6.4653, Normalization 1 ?= : 1.00, Duration : 2.53\n",
            "Epoch [10/50], Loss: -0.2337, Perplexity: 626.96, CE 6.4409, Normalization 1 ?= : 1.00, Duration : 2.52\n",
            "Epoch [11/50], Loss: -0.2479, Perplexity: 611.48, CE 6.4159, Normalization 1 ?= : 1.00, Duration : 2.53\n",
            "Epoch [12/50], Loss: -0.2557, Perplexity: 596.06, CE 6.3903, Normalization 1 ?= : 1.00, Duration : 2.53\n",
            "Epoch [13/50], Loss: -0.2657, Perplexity: 580.76, CE 6.3643, Normalization 1 ?= : 1.00, Duration : 2.53\n",
            "Epoch [14/50], Loss: -0.2653, Perplexity: 565.79, CE 6.3382, Normalization 1 ?= : 1.00, Duration : 2.54\n",
            "Epoch [15/50], Loss: -0.2695, Perplexity: 551.20, CE 6.3121, Normalization 1 ?= : 1.00, Duration : 2.54\n",
            "Epoch [16/50], Loss: -0.2693, Perplexity: 537.08, CE 6.2861, Normalization 1 ?= : 1.00, Duration : 2.56\n",
            "Epoch [17/50], Loss: -0.2674, Perplexity: 523.48, CE 6.2605, Normalization 1 ?= : 1.00, Duration : 2.54\n",
            "Epoch [18/50], Loss: -0.2667, Perplexity: 510.37, CE 6.2351, Normalization 1 ?= : 1.00, Duration : 2.54\n",
            "Epoch [19/50], Loss: -0.2644, Perplexity: 497.74, CE 6.2101, Normalization 1 ?= : 1.00, Duration : 2.60\n",
            "Epoch [20/50], Loss: -0.2631, Perplexity: 485.62, CE 6.1854, Normalization 1 ?= : 1.00, Duration : 2.67\n",
            "Epoch [21/50], Loss: -0.2593, Perplexity: 473.97, CE 6.1611, Normalization 1 ?= : 1.00, Duration : 2.71\n",
            "Epoch [22/50], Loss: -0.2608, Perplexity: 462.78, CE 6.1372, Normalization 1 ?= : 1.00, Duration : 2.74\n",
            "Epoch [23/50], Loss: -0.2657, Perplexity: 452.06, CE 6.1138, Normalization 1 ?= : 1.00, Duration : 2.74\n",
            "Epoch [24/50], Loss: -0.2681, Perplexity: 441.80, CE 6.0909, Normalization 1 ?= : 1.00, Duration : 2.74\n",
            "Epoch [25/50], Loss: -0.2725, Perplexity: 431.91, CE 6.0682, Normalization 1 ?= : 1.00, Duration : 2.75\n",
            "Epoch [26/50], Loss: -0.2712, Perplexity: 422.39, CE 6.0459, Normalization 1 ?= : 1.00, Duration : 2.74\n",
            "Epoch [27/50], Loss: -0.2788, Perplexity: 413.25, CE 6.0241, Normalization 1 ?= : 1.00, Duration : 2.70\n",
            "Epoch [28/50], Loss: -0.2758, Perplexity: 404.41, CE 6.0024, Normalization 1 ?= : 1.00, Duration : 2.70\n",
            "Epoch [29/50], Loss: -0.2790, Perplexity: 395.94, CE 5.9813, Normalization 1 ?= : 1.00, Duration : 2.74\n",
            "Epoch [30/50], Loss: -0.2804, Perplexity: 387.83, CE 5.9606, Normalization 1 ?= : 1.00, Duration : 2.74\n",
            "Epoch [31/50], Loss: -0.2796, Perplexity: 380.07, CE 5.9404, Normalization 1 ?= : 1.00, Duration : 2.64\n",
            "Epoch [32/50], Loss: -0.2850, Perplexity: 372.66, CE 5.9207, Normalization 1 ?= : 1.00, Duration : 2.61\n",
            "Epoch [33/50], Loss: -0.2830, Perplexity: 365.57, CE 5.9015, Normalization 1 ?= : 1.00, Duration : 2.61\n",
            "Epoch [34/50], Loss: -0.2818, Perplexity: 358.79, CE 5.8827, Normalization 1 ?= : 1.00, Duration : 2.59\n",
            "Epoch [35/50], Loss: -0.2845, Perplexity: 352.31, CE 5.8645, Normalization 1 ?= : 1.00, Duration : 2.53\n",
            "Epoch [36/50], Loss: -0.2984, Perplexity: 346.09, CE 5.8467, Normalization 1 ?= : 1.00, Duration : 2.53\n",
            "Epoch [37/50], Loss: -0.2891, Perplexity: 340.13, CE 5.8293, Normalization 1 ?= : 1.00, Duration : 2.53\n",
            "Epoch [38/50], Loss: -0.2935, Perplexity: 334.42, CE 5.8124, Normalization 1 ?= : 1.00, Duration : 2.53\n",
            "Epoch [39/50], Loss: -0.2822, Perplexity: 328.95, CE 5.7959, Normalization 1 ?= : 1.01, Duration : 2.52\n",
            "Epoch [40/50], Loss: -0.2954, Perplexity: 323.70, CE 5.7798, Normalization 1 ?= : 1.00, Duration : 2.53\n",
            "Epoch [41/50], Loss: -0.2767, Perplexity: 318.67, CE 5.7641, Normalization 1 ?= : 1.01, Duration : 2.53\n",
            "Epoch [42/50], Loss: -0.2907, Perplexity: 313.83, CE 5.7489, Normalization 1 ?= : 1.00, Duration : 2.53\n",
            "Epoch [43/50], Loss: -0.2818, Perplexity: 309.20, CE 5.7340, Normalization 1 ?= : 1.01, Duration : 2.53\n",
            "Epoch [44/50], Loss: -0.2821, Perplexity: 304.75, CE 5.7195, Normalization 1 ?= : 1.01, Duration : 2.53\n",
            "Epoch [45/50], Loss: -0.3042, Perplexity: 300.46, CE 5.7053, Normalization 1 ?= : 1.00, Duration : 2.53\n",
            "Epoch [46/50], Loss: -0.2944, Perplexity: 296.32, CE 5.6914, Normalization 1 ?= : 1.01, Duration : 2.53\n",
            "Epoch [47/50], Loss: -0.2765, Perplexity: 292.32, CE 5.6778, Normalization 1 ?= : 1.01, Duration : 2.53\n",
            "Epoch [48/50], Loss: -0.2755, Perplexity: 288.47, CE 5.6646, Normalization 1 ?= : 1.01, Duration : 2.53\n",
            "Epoch [49/50], Loss: -0.2917, Perplexity: 284.75, CE 5.6516, Normalization 1 ?= : 1.01, Duration : 2.53\n",
            "Epoch [50/50], Loss: -0.2972, Perplexity: 281.15, CE 5.6389, Normalization 1 ?= : 1.01, Duration : 2.53\n",
            "\n",
            "==================================\n",
            "Test\n",
            "==================================\n",
            "Perplexity: 277.88, CE 5.6272, Duration : 0.01\n",
            "--------------------------\n",
            " street year earlier to N N N N N N N N N N N N N N N N\n",
            "--------------------------\n",
            " N N N N N N N N N N N N N N N N N N N N\n",
            "--------------------------\n",
            " the company also <bos> the company also <bos> the company also <bos> the company also <bos> the company also <bos>\n",
            "--------------------------\n",
            " N N N N N N N N N N N N N N N N N N N N\n",
            "--------------------------\n",
            " year earlier to N N N N N N N N N N N N N N N N N\n"
          ]
        }
      ],
      "source": [
        "Q = Categorical(torch.tensor(freqs))\n",
        "model = lm(vocab_size, embed_size, hidden_size, num_layers).to(device)\n",
        "is_loss = ImportanceSamplingLoss(Q = Q).to(device)\n",
        "optimizer = torch.optim.Adam(list(model.parameters()) + list(is_loss.parameters()), lr= 1e-4)\n",
        "model, is_ce_non_uni, is_non_uni_part = train(model,\n",
        "                                              optimizer,\n",
        "                                              is_loss,\n",
        "                                              (train_sentences, train_masks , batch_size) )\n",
        "for _ in range(5):\n",
        "    print('--------------------------')\n",
        "    print(generate_text(model , Q))"
      ]
    },
    {
      "cell_type": "markdown",
      "metadata": {
        "id": "a0gno831O8tc"
      },
      "source": [
        "## Importance sampling with uniform proposal distribution"
      ]
    },
    {
      "cell_type": "code",
      "execution_count": null,
      "metadata": {
        "id": "PCPRskhoNSHW",
        "outputId": "3a4c88ef-4748-4dbc-ee86-3a9d1ed05c15"
      },
      "outputs": [
        {
          "name": "stdout",
          "output_type": "stream",
          "text": [
            "Epoch [1/50], Loss: -0.2355, Perplexity: 9214.60, CE 9.1285, Normalization 1 ?= : 1.00, Duration : 2.95\n",
            "Epoch [2/50], Loss: -1.3548, Perplexity: 2821.85, CE 7.9451, Normalization 1 ?= : 1.02, Duration : 2.94\n",
            "Epoch [3/50], Loss: -0.2414, Perplexity: 864.88, CE 6.7626, Normalization 1 ?= : 1.15, Duration : 2.95\n",
            "Epoch [4/50], Loss: -0.0953, Perplexity: 722.98, CE 6.5834, Normalization 1 ?= : 1.16, Duration : 2.95\n",
            "Epoch [5/50], Loss: -0.2008, Perplexity: 707.43, CE 6.5616, Normalization 1 ?= : 1.16, Duration : 2.95\n",
            "Epoch [6/50], Loss: -0.1982, Perplexity: 697.55, CE 6.5476, Normalization 1 ?= : 1.16, Duration : 2.94\n",
            "Epoch [7/50], Loss: -0.3027, Perplexity: 687.46, CE 6.5330, Normalization 1 ?= : 1.16, Duration : 2.94\n",
            "Epoch [8/50], Loss: -0.2935, Perplexity: 677.24, CE 6.5180, Normalization 1 ?= : 1.16, Duration : 2.94\n",
            "Epoch [9/50], Loss: -0.3642, Perplexity: 667.73, CE 6.5039, Normalization 1 ?= : 1.16, Duration : 2.94\n",
            "Epoch [10/50], Loss: -0.4327, Perplexity: 658.26, CE 6.4896, Normalization 1 ?= : 1.17, Duration : 2.94\n",
            "Epoch [11/50], Loss: -0.4521, Perplexity: 649.29, CE 6.4759, Normalization 1 ?= : 1.17, Duration : 2.94\n",
            "Epoch [12/50], Loss: -0.4769, Perplexity: 640.67, CE 6.4625, Normalization 1 ?= : 1.17, Duration : 2.94\n",
            "Epoch [13/50], Loss: -0.5089, Perplexity: 632.24, CE 6.4493, Normalization 1 ?= : 1.16, Duration : 2.95\n",
            "Epoch [14/50], Loss: -0.5478, Perplexity: 624.04, CE 6.4362, Normalization 1 ?= : 1.17, Duration : 2.95\n",
            "Epoch [15/50], Loss: -0.6123, Perplexity: 615.62, CE 6.4226, Normalization 1 ?= : 1.16, Duration : 2.95\n",
            "Epoch [16/50], Loss: -0.6375, Perplexity: 607.09, CE 6.4087, Normalization 1 ?= : 1.17, Duration : 2.94\n",
            "Epoch [17/50], Loss: -0.7008, Perplexity: 598.37, CE 6.3942, Normalization 1 ?= : 1.17, Duration : 2.94\n",
            "Epoch [18/50], Loss: -0.7476, Perplexity: 589.64, CE 6.3795, Normalization 1 ?= : 1.17, Duration : 2.95\n",
            "Epoch [19/50], Loss: -0.7657, Perplexity: 581.34, CE 6.3653, Normalization 1 ?= : 1.17, Duration : 2.95\n",
            "Epoch [20/50], Loss: -0.8354, Perplexity: 573.05, CE 6.3510, Normalization 1 ?= : 1.17, Duration : 2.94\n",
            "Epoch [21/50], Loss: -0.8458, Perplexity: 564.92, CE 6.3367, Normalization 1 ?= : 1.17, Duration : 2.95\n",
            "Epoch [22/50], Loss: -0.9154, Perplexity: 556.94, CE 6.3225, Normalization 1 ?= : 1.17, Duration : 2.94\n",
            "Epoch [23/50], Loss: -0.9678, Perplexity: 549.36, CE 6.3088, Normalization 1 ?= : 1.17, Duration : 2.94\n",
            "Epoch [24/50], Loss: -1.0440, Perplexity: 541.81, CE 6.2949, Normalization 1 ?= : 1.18, Duration : 2.95\n",
            "Epoch [25/50], Loss: -1.0691, Perplexity: 534.49, CE 6.2813, Normalization 1 ?= : 1.17, Duration : 2.94\n",
            "Epoch [26/50], Loss: -1.0841, Perplexity: 527.46, CE 6.2681, Normalization 1 ?= : 1.17, Duration : 2.94\n",
            "Epoch [27/50], Loss: -1.1700, Perplexity: 520.71, CE 6.2552, Normalization 1 ?= : 1.18, Duration : 2.95\n",
            "Epoch [28/50], Loss: -1.2260, Perplexity: 514.17, CE 6.2426, Normalization 1 ?= : 1.19, Duration : 2.94\n",
            "Epoch [29/50], Loss: -1.2857, Perplexity: 507.61, CE 6.2297, Normalization 1 ?= : 1.19, Duration : 2.94\n",
            "Epoch [30/50], Loss: -1.3001, Perplexity: 501.26, CE 6.2171, Normalization 1 ?= : 1.19, Duration : 2.94\n",
            "Epoch [31/50], Loss: -1.3938, Perplexity: 495.20, CE 6.2050, Normalization 1 ?= : 1.19, Duration : 2.94\n",
            "Epoch [32/50], Loss: -1.4036, Perplexity: 489.56, CE 6.1935, Normalization 1 ?= : 1.19, Duration : 2.94\n",
            "Epoch [33/50], Loss: -1.4783, Perplexity: 484.08, CE 6.1822, Normalization 1 ?= : 1.19, Duration : 2.94\n",
            "Epoch [34/50], Loss: -1.5281, Perplexity: 478.77, CE 6.1712, Normalization 1 ?= : 1.19, Duration : 2.94\n",
            "Epoch [35/50], Loss: -1.5932, Perplexity: 473.93, CE 6.1611, Normalization 1 ?= : 1.20, Duration : 2.94\n",
            "Epoch [36/50], Loss: -1.6523, Perplexity: 468.88, CE 6.1504, Normalization 1 ?= : 1.20, Duration : 2.94\n",
            "Epoch [37/50], Loss: -1.6651, Perplexity: 464.52, CE 6.1410, Normalization 1 ?= : 1.19, Duration : 2.94\n",
            "Epoch [38/50], Loss: -1.7741, Perplexity: 459.89, CE 6.1310, Normalization 1 ?= : 1.20, Duration : 2.94\n",
            "Epoch [39/50], Loss: -1.7976, Perplexity: 455.69, CE 6.1218, Normalization 1 ?= : 1.20, Duration : 2.95\n",
            "Epoch [40/50], Loss: -1.8539, Perplexity: 451.20, CE 6.1119, Normalization 1 ?= : 1.20, Duration : 2.95\n",
            "Epoch [41/50], Loss: -1.8609, Perplexity: 447.42, CE 6.1035, Normalization 1 ?= : 1.20, Duration : 2.94\n",
            "Epoch [42/50], Loss: -1.9408, Perplexity: 443.30, CE 6.0942, Normalization 1 ?= : 1.20, Duration : 2.94\n",
            "Epoch [43/50], Loss: -1.9992, Perplexity: 439.44, CE 6.0855, Normalization 1 ?= : 1.20, Duration : 2.94\n",
            "Epoch [44/50], Loss: -2.0273, Perplexity: 435.72, CE 6.0770, Normalization 1 ?= : 1.20, Duration : 2.94\n",
            "Epoch [45/50], Loss: -2.1434, Perplexity: 431.90, CE 6.0682, Normalization 1 ?= : 1.21, Duration : 2.95\n",
            "Epoch [46/50], Loss: -2.2096, Perplexity: 428.86, CE 6.0611, Normalization 1 ?= : 1.21, Duration : 2.94\n",
            "Epoch [47/50], Loss: -2.1710, Perplexity: 425.53, CE 6.0533, Normalization 1 ?= : 1.20, Duration : 2.94\n",
            "Epoch [48/50], Loss: -2.2897, Perplexity: 422.10, CE 6.0452, Normalization 1 ?= : 1.21, Duration : 2.94\n",
            "Epoch [49/50], Loss: -2.2999, Perplexity: 418.93, CE 6.0377, Normalization 1 ?= : 1.20, Duration : 2.94\n",
            "Epoch [50/50], Loss: -2.3610, Perplexity: 416.38, CE 6.0316, Normalization 1 ?= : 1.20, Duration : 2.95\n",
            "\n",
            "==================================\n",
            "Test\n",
            "==================================\n",
            "Perplexity: 402.57, CE 5.9979, Duration : 0.01\n",
            "--------------------------\n",
            " the <unk> <unk> <unk> <unk> <unk> <unk> <unk> <unk> <unk> <unk> <unk> <unk> <unk> <unk> <unk> <unk> <unk> <unk> <unk>\n",
            "--------------------------\n",
            " letter it 's and strokes unveil but the <unk> <unk> <unk> <unk> <unk> <unk> <unk> <unk> <unk> <unk> <unk> <unk>\n",
            "--------------------------\n",
            " a year N N N N N N N N N N N N N N N N N N\n",
            "--------------------------\n",
            " N N N N N N N N N N N N N N N N N N N N\n",
            "--------------------------\n",
            " second pork quake been <unk> <unk> <unk> <unk> <unk> <unk> <unk> <unk> <unk> <unk> <unk> <unk> <unk> <unk> <unk> <unk>\n"
          ]
        }
      ],
      "source": [
        "Q = Categorical(torch.zeros(vocab_size) + 1/vocab_size)\n",
        "model = lm(vocab_size, embed_size, hidden_size, num_layers).to(device)\n",
        "is_loss = ImportanceSamplingLoss(Q = Q).to(device)\n",
        "optimizer = torch.optim.Adam(list(model.parameters()) + list(is_loss.parameters()), lr= 1e-4)\n",
        "model, is_ce_uni ,is_uni_part = train(model,\n",
        "                                      optimizer,\n",
        "                                      is_loss, \n",
        "                                      (train_sentences, train_masks , batch_size))\n",
        "\n",
        "for _ in range(5):\n",
        "    print('--------------------------')\n",
        "    print(generate_text(model , Q))"
      ]
    },
    {
      "cell_type": "markdown",
      "metadata": {
        "id": "jBG65KjNPPWk"
      },
      "source": [
        "## NCE with unigram (non-uniform) proposal distribution and $log(Z_c) = 0$ (not trainable)"
      ]
    },
    {
      "cell_type": "code",
      "execution_count": null,
      "metadata": {
        "id": "BWew5yu0yoQH",
        "outputId": "f61e37e6-9299-4758-af41-7c1b51ba11da"
      },
      "outputs": [
        {
          "name": "stdout",
          "output_type": "stream",
          "text": [
            "Epoch [1/50], Loss: -0.2675, Perplexity: 4937.92, CE 8.5047, Normalization 1 ?= : 1.08, Duration : 0.65\n",
            "Epoch [2/50], Loss: -0.0639, Perplexity: 719.78, CE 6.5789, Normalization 1 ?= : 1.06, Duration : 0.65\n",
            "Epoch [3/50], Loss: -0.0005, Perplexity: 713.37, CE 6.5700, Normalization 1 ?= : 1.06, Duration : 0.65\n",
            "Epoch [4/50], Loss: 0.0230, Perplexity: 714.49, CE 6.5716, Normalization 1 ?= : 1.05, Duration : 0.65\n",
            "Epoch [5/50], Loss: 0.0281, Perplexity: 714.41, CE 6.5715, Normalization 1 ?= : 1.05, Duration : 0.65\n",
            "Epoch [6/50], Loss: -0.0481, Perplexity: 711.28, CE 6.5671, Normalization 1 ?= : 1.06, Duration : 0.65\n",
            "Epoch [7/50], Loss: -0.1741, Perplexity: 696.30, CE 6.5458, Normalization 1 ?= : 1.06, Duration : 0.65\n",
            "Epoch [8/50], Loss: -0.3436, Perplexity: 662.66, CE 6.4963, Normalization 1 ?= : 1.06, Duration : 0.65\n",
            "Epoch [9/50], Loss: -0.4395, Perplexity: 614.61, CE 6.4210, Normalization 1 ?= : 1.05, Duration : 0.65\n",
            "Epoch [10/50], Loss: -0.4450, Perplexity: 557.73, CE 6.3239, Normalization 1 ?= : 1.04, Duration : 0.65\n",
            "Epoch [11/50], Loss: -0.4240, Perplexity: 503.21, CE 6.2210, Normalization 1 ?= : 1.03, Duration : 0.65\n",
            "Epoch [12/50], Loss: -0.3730, Perplexity: 458.92, CE 6.1289, Normalization 1 ?= : 1.02, Duration : 0.65\n",
            "Epoch [13/50], Loss: -0.3775, Perplexity: 422.82, CE 6.0470, Normalization 1 ?= : 1.02, Duration : 0.65\n",
            "Epoch [14/50], Loss: -0.3765, Perplexity: 392.28, CE 5.9720, Normalization 1 ?= : 1.02, Duration : 0.65\n",
            "Epoch [15/50], Loss: -0.3580, Perplexity: 366.39, CE 5.9037, Normalization 1 ?= : 1.01, Duration : 0.65\n",
            "Epoch [16/50], Loss: -0.3003, Perplexity: 344.42, CE 5.8419, Normalization 1 ?= : 1.01, Duration : 0.65\n",
            "Epoch [17/50], Loss: -0.3006, Perplexity: 325.56, CE 5.7856, Normalization 1 ?= : 1.01, Duration : 0.65\n",
            "Epoch [18/50], Loss: -0.2879, Perplexity: 309.47, CE 5.7349, Normalization 1 ?= : 1.01, Duration : 0.65\n",
            "Epoch [19/50], Loss: -0.2887, Perplexity: 295.53, CE 5.6888, Normalization 1 ?= : 1.00, Duration : 0.65\n",
            "Epoch [20/50], Loss: -0.2744, Perplexity: 283.25, CE 5.6463, Normalization 1 ?= : 1.00, Duration : 0.65\n",
            "Epoch [21/50], Loss: -0.2861, Perplexity: 272.23, CE 5.6066, Normalization 1 ?= : 1.00, Duration : 0.65\n",
            "Epoch [22/50], Loss: -0.2868, Perplexity: 262.36, CE 5.5697, Normalization 1 ?= : 1.00, Duration : 0.65\n",
            "Epoch [23/50], Loss: -0.2286, Perplexity: 253.41, CE 5.5350, Normalization 1 ?= : 0.99, Duration : 0.65\n",
            "Epoch [24/50], Loss: -0.2205, Perplexity: 245.13, CE 5.5018, Normalization 1 ?= : 0.99, Duration : 0.65\n",
            "Epoch [25/50], Loss: -0.2347, Perplexity: 237.52, CE 5.4703, Normalization 1 ?= : 0.99, Duration : 0.65\n",
            "Epoch [26/50], Loss: -0.2523, Perplexity: 230.43, CE 5.4399, Normalization 1 ?= : 0.99, Duration : 0.65\n",
            "Epoch [27/50], Loss: -0.2183, Perplexity: 223.85, CE 5.4110, Normalization 1 ?= : 0.99, Duration : 0.65\n",
            "Epoch [28/50], Loss: -0.2490, Perplexity: 217.72, CE 5.3832, Normalization 1 ?= : 0.99, Duration : 0.65\n",
            "Epoch [29/50], Loss: -0.2556, Perplexity: 211.96, CE 5.3564, Normalization 1 ?= : 0.99, Duration : 0.65\n",
            "Epoch [30/50], Loss: -0.2725, Perplexity: 206.59, CE 5.3307, Normalization 1 ?= : 0.99, Duration : 0.65\n",
            "Epoch [31/50], Loss: -0.2382, Perplexity: 201.46, CE 5.3056, Normalization 1 ?= : 0.98, Duration : 0.65\n",
            "Epoch [32/50], Loss: -0.2011, Perplexity: 196.58, CE 5.2811, Normalization 1 ?= : 0.98, Duration : 0.65\n",
            "Epoch [33/50], Loss: -0.2234, Perplexity: 192.01, CE 5.2575, Normalization 1 ?= : 0.98, Duration : 0.65\n",
            "Epoch [34/50], Loss: -0.1975, Perplexity: 187.74, CE 5.2350, Normalization 1 ?= : 0.98, Duration : 0.65\n",
            "Epoch [35/50], Loss: -0.2247, Perplexity: 183.60, CE 5.2128, Normalization 1 ?= : 0.98, Duration : 0.65\n",
            "Epoch [36/50], Loss: -0.2311, Perplexity: 179.73, CE 5.1914, Normalization 1 ?= : 0.98, Duration : 0.65\n",
            "Epoch [37/50], Loss: -0.2416, Perplexity: 176.02, CE 5.1706, Normalization 1 ?= : 0.98, Duration : 0.65\n",
            "Epoch [38/50], Loss: -0.1978, Perplexity: 172.54, CE 5.1506, Normalization 1 ?= : 0.98, Duration : 0.65\n",
            "Epoch [39/50], Loss: -0.2182, Perplexity: 169.15, CE 5.1308, Normalization 1 ?= : 0.98, Duration : 0.65\n",
            "Epoch [40/50], Loss: -0.1922, Perplexity: 165.92, CE 5.1115, Normalization 1 ?= : 0.98, Duration : 0.65\n",
            "Epoch [41/50], Loss: -0.1863, Perplexity: 162.81, CE 5.0926, Normalization 1 ?= : 0.97, Duration : 0.66\n",
            "Epoch [42/50], Loss: -0.1797, Perplexity: 159.85, CE 5.0742, Normalization 1 ?= : 0.97, Duration : 0.65\n",
            "Epoch [43/50], Loss: -0.1667, Perplexity: 156.96, CE 5.0560, Normalization 1 ?= : 0.97, Duration : 0.65\n",
            "Epoch [44/50], Loss: -0.1404, Perplexity: 154.17, CE 5.0381, Normalization 1 ?= : 0.97, Duration : 0.65\n",
            "Epoch [45/50], Loss: -0.1671, Perplexity: 151.45, CE 5.0202, Normalization 1 ?= : 0.97, Duration : 0.65\n",
            "Epoch [46/50], Loss: -0.1332, Perplexity: 148.83, CE 5.0028, Normalization 1 ?= : 0.96, Duration : 0.65\n",
            "Epoch [47/50], Loss: -0.1355, Perplexity: 146.32, CE 4.9858, Normalization 1 ?= : 0.96, Duration : 0.65\n",
            "Epoch [48/50], Loss: -0.1256, Perplexity: 143.86, CE 4.9688, Normalization 1 ?= : 0.96, Duration : 0.65\n",
            "Epoch [49/50], Loss: -0.1443, Perplexity: 141.48, CE 4.9521, Normalization 1 ?= : 0.96, Duration : 0.65\n",
            "Epoch [50/50], Loss: -0.1198, Perplexity: 139.19, CE 4.9358, Normalization 1 ?= : 0.96, Duration : 0.65\n",
            "\n",
            "==================================\n",
            "Test\n",
            "==================================\n",
            "Perplexity: 167.47, CE 5.1208, Duration : 0.01\n",
            "--------------------------\n",
            " else about the company share offered avenue over-the-counter bonds of major how they have a spokesman also & quarter the\n",
            "--------------------------\n",
            " the company share offered avenue over-the-counter bonds of major how they have a spokesman also & quarter the company share\n",
            "--------------------------\n",
            " also & quarter the company share offered avenue over-the-counter bonds of major how they have a spokesman also & quarter\n",
            "--------------------------\n",
            " composite up to the company share offered avenue over-the-counter bonds of major how they have a spokesman also & quarter\n",
            "--------------------------\n",
            " the company share offered avenue over-the-counter bonds of major how they have a spokesman also & quarter the company share\n"
          ]
        }
      ],
      "source": [
        "Q = Categorical(torch.tensor(freqs))\n",
        "model = lm(vocab_size, embed_size, hidden_size, num_layers).to(device)\n",
        "nce_loss = NCELoss(Q = Q , train_partition = False, log_Z = 0).to(device)\n",
        "optimizer = torch.optim.Adam(list(model.parameters()) + list(nce_loss.parameters()), lr= 1e-3)\n",
        "model, nce_ce_non_uni ,nce_non_uni_part = train(model,\n",
        "                                                optimizer,\n",
        "                                                nce_loss, \n",
        "                                                (train_sentences, train_masks , batch_size))\n",
        "\n",
        "for _ in range(5):\n",
        "    print('--------------------------')\n",
        "    print(generate_text(model , Q))"
      ]
    },
    {
      "cell_type": "markdown",
      "metadata": {
        "id": "0JZEoPhlPqtf"
      },
      "source": [
        "## NCE with uniform proposal distribution and $log(Z_c) = 0$ (not trainable)"
      ]
    },
    {
      "cell_type": "code",
      "execution_count": null,
      "metadata": {
        "id": "ROvX_xhHyfcq",
        "outputId": "15a168f5-4eac-4889-ce11-9d494823734a"
      },
      "outputs": [
        {
          "name": "stdout",
          "output_type": "stream",
          "text": [
            "Epoch [1/50], Loss: -1.1854, Perplexity: 4137.63, CE 8.3279, Normalization 1 ?= : 1.20, Duration : 0.70\n",
            "Epoch [2/50], Loss: -0.2583, Perplexity: 727.85, CE 6.5901, Normalization 1 ?= : 1.11, Duration : 0.69\n",
            "Epoch [3/50], Loss: -0.0823, Perplexity: 715.39, CE 6.5728, Normalization 1 ?= : 1.10, Duration : 0.69\n",
            "Epoch [4/50], Loss: 0.0016, Perplexity: 715.47, CE 6.5729, Normalization 1 ?= : 1.07, Duration : 0.69\n",
            "Epoch [5/50], Loss: 0.0105, Perplexity: 716.38, CE 6.5742, Normalization 1 ?= : 1.08, Duration : 0.70\n",
            "Epoch [6/50], Loss: 0.0562, Perplexity: 717.05, CE 6.5751, Normalization 1 ?= : 1.06, Duration : 0.70\n",
            "Epoch [7/50], Loss: 0.0457, Perplexity: 717.54, CE 6.5758, Normalization 1 ?= : 1.08, Duration : 0.69\n",
            "Epoch [8/50], Loss: -0.0097, Perplexity: 716.89, CE 6.5749, Normalization 1 ?= : 1.07, Duration : 0.70\n",
            "Epoch [9/50], Loss: -0.3413, Perplexity: 710.53, CE 6.5660, Normalization 1 ?= : 1.10, Duration : 0.69\n",
            "Epoch [10/50], Loss: -0.3501, Perplexity: 685.04, CE 6.5295, Normalization 1 ?= : 1.07, Duration : 0.70\n",
            "Epoch [11/50], Loss: -0.2613, Perplexity: 640.32, CE 6.4620, Normalization 1 ?= : 1.03, Duration : 0.69\n",
            "Epoch [12/50], Loss: -0.2348, Perplexity: 592.74, CE 6.3848, Normalization 1 ?= : 1.00, Duration : 0.69\n",
            "Epoch [13/50], Loss: -0.2538, Perplexity: 549.59, CE 6.3092, Normalization 1 ?= : 0.99, Duration : 0.69\n",
            "Epoch [14/50], Loss: -0.1960, Perplexity: 509.58, CE 6.2336, Normalization 1 ?= : 0.97, Duration : 0.70\n",
            "Epoch [15/50], Loss: -0.1689, Perplexity: 474.22, CE 6.1617, Normalization 1 ?= : 0.96, Duration : 0.70\n",
            "Epoch [16/50], Loss: -0.1734, Perplexity: 443.68, CE 6.0951, Normalization 1 ?= : 0.96, Duration : 0.70\n",
            "Epoch [17/50], Loss: -0.1870, Perplexity: 417.59, CE 6.0345, Normalization 1 ?= : 0.95, Duration : 0.70\n",
            "Epoch [18/50], Loss: -0.2030, Perplexity: 395.23, CE 5.9795, Normalization 1 ?= : 0.95, Duration : 0.70\n",
            "Epoch [19/50], Loss: -0.1832, Perplexity: 376.01, CE 5.9296, Normalization 1 ?= : 0.96, Duration : 0.69\n",
            "Epoch [20/50], Loss: -0.2179, Perplexity: 359.00, CE 5.8833, Normalization 1 ?= : 0.96, Duration : 0.70\n",
            "Epoch [21/50], Loss: -0.1877, Perplexity: 344.22, CE 5.8413, Normalization 1 ?= : 0.96, Duration : 0.70\n",
            "Epoch [22/50], Loss: -0.2102, Perplexity: 331.01, CE 5.8022, Normalization 1 ?= : 0.96, Duration : 0.70\n",
            "Epoch [23/50], Loss: -0.2110, Perplexity: 318.78, CE 5.7645, Normalization 1 ?= : 0.95, Duration : 0.70\n",
            "Epoch [24/50], Loss: -0.2011, Perplexity: 307.87, CE 5.7297, Normalization 1 ?= : 0.96, Duration : 0.69\n",
            "Epoch [25/50], Loss: -0.2168, Perplexity: 298.05, CE 5.6972, Normalization 1 ?= : 0.96, Duration : 0.70\n",
            "Epoch [26/50], Loss: -0.2170, Perplexity: 288.84, CE 5.6659, Normalization 1 ?= : 0.97, Duration : 0.70\n",
            "Epoch [27/50], Loss: -0.1864, Perplexity: 280.43, CE 5.6363, Normalization 1 ?= : 0.95, Duration : 0.70\n",
            "Epoch [28/50], Loss: -0.1933, Perplexity: 272.58, CE 5.6079, Normalization 1 ?= : 0.95, Duration : 0.70\n",
            "Epoch [29/50], Loss: -0.1882, Perplexity: 265.19, CE 5.5805, Normalization 1 ?= : 0.96, Duration : 0.69\n",
            "Epoch [30/50], Loss: -0.2293, Perplexity: 258.12, CE 5.5534, Normalization 1 ?= : 0.96, Duration : 0.69\n",
            "Epoch [31/50], Loss: -0.1690, Perplexity: 251.59, CE 5.5278, Normalization 1 ?= : 0.95, Duration : 0.70\n",
            "Epoch [32/50], Loss: -0.1730, Perplexity: 245.40, CE 5.5029, Normalization 1 ?= : 0.95, Duration : 0.70\n",
            "Epoch [33/50], Loss: -0.2005, Perplexity: 239.57, CE 5.4789, Normalization 1 ?= : 0.97, Duration : 0.74\n",
            "Epoch [34/50], Loss: -0.2254, Perplexity: 234.13, CE 5.4559, Normalization 1 ?= : 0.97, Duration : 0.74\n",
            "Epoch [35/50], Loss: -0.1744, Perplexity: 228.84, CE 5.4330, Normalization 1 ?= : 0.95, Duration : 0.74\n",
            "Epoch [36/50], Loss: -0.1647, Perplexity: 223.79, CE 5.4107, Normalization 1 ?= : 0.96, Duration : 0.74\n",
            "Epoch [37/50], Loss: -0.1753, Perplexity: 218.94, CE 5.3888, Normalization 1 ?= : 0.95, Duration : 0.74\n",
            "Epoch [38/50], Loss: -0.1820, Perplexity: 214.32, CE 5.3675, Normalization 1 ?= : 0.96, Duration : 0.74\n",
            "Epoch [39/50], Loss: -0.1746, Perplexity: 209.87, CE 5.3465, Normalization 1 ?= : 0.95, Duration : 0.74\n",
            "Epoch [40/50], Loss: -0.1430, Perplexity: 205.48, CE 5.3254, Normalization 1 ?= : 0.95, Duration : 0.74\n",
            "Epoch [41/50], Loss: -0.1732, Perplexity: 201.38, CE 5.3052, Normalization 1 ?= : 0.96, Duration : 0.74\n",
            "Epoch [42/50], Loss: -0.1458, Perplexity: 197.54, CE 5.2859, Normalization 1 ?= : 0.96, Duration : 0.74\n",
            "Epoch [43/50], Loss: -0.2227, Perplexity: 193.77, CE 5.2667, Normalization 1 ?= : 0.97, Duration : 0.74\n",
            "Epoch [44/50], Loss: -0.1735, Perplexity: 190.22, CE 5.2482, Normalization 1 ?= : 0.96, Duration : 0.74\n",
            "Epoch [45/50], Loss: -0.2274, Perplexity: 186.82, CE 5.2301, Normalization 1 ?= : 0.96, Duration : 0.74\n",
            "Epoch [46/50], Loss: -0.2565, Perplexity: 183.54, CE 5.2124, Normalization 1 ?= : 0.96, Duration : 0.74\n",
            "Epoch [47/50], Loss: -0.2080, Perplexity: 180.46, CE 5.1955, Normalization 1 ?= : 0.95, Duration : 0.74\n",
            "Epoch [48/50], Loss: -0.2570, Perplexity: 177.40, CE 5.1784, Normalization 1 ?= : 0.97, Duration : 0.74\n",
            "Epoch [49/50], Loss: -0.2675, Perplexity: 174.58, CE 5.1624, Normalization 1 ?= : 0.99, Duration : 0.74\n",
            "Epoch [50/50], Loss: -0.1992, Perplexity: 171.77, CE 5.1461, Normalization 1 ?= : 0.96, Duration : 0.74\n",
            "\n",
            "==================================\n",
            "Test\n",
            "==================================\n",
            "Perplexity: 192.57, CE 5.2605, Duration : 0.01\n",
            "--------------------------\n",
            " the <unk> <unk> <unk> <unk> <unk> <unk> <unk> <unk> <unk> <unk> <unk> <unk> <unk> <unk> <unk> <unk> <unk> <unk> <unk>\n",
            "--------------------------\n",
            " goldsmith said the <unk> <unk> <unk> <unk> <unk> <unk> <unk> <unk> <unk> <unk> <unk> <unk> <unk> <unk> <unk> <unk> <unk>\n",
            "--------------------------\n",
            " N N N N N N N N N N N N N N N N N N N N\n",
            "--------------------------\n",
            " the <unk> <unk> <unk> <unk> <unk> <unk> <unk> <unk> <unk> <unk> <unk> <unk> <unk> <unk> <unk> <unk> <unk> <unk> <unk>\n",
            "--------------------------\n",
            " N N N N N N N N N N N N N N N N N N N N\n"
          ]
        }
      ],
      "source": [
        "Q = Categorical(torch.zeros(vocab_size) + 1/vocab_size)\n",
        "model = lm(vocab_size, embed_size, hidden_size, num_layers).to(device)\n",
        "nce_loss = NCELoss(Q = Q , train_partition = False, log_Z = 0).to(device)\n",
        "optimizer = torch.optim.Adam(list(model.parameters()) + list(nce_loss.parameters()), lr= 1e-3)\n",
        "model, nce_ce_uni ,nce_non_part = train(model,\n",
        "                                        optimizer,\n",
        "                                        nce_loss, \n",
        "                                        (train_sentences, train_masks , batch_size))\n",
        "\n",
        "for _ in range(5):\n",
        "    print('--------------------------')\n",
        "    print(generate_text(model , Q))"
      ]
    },
    {
      "cell_type": "markdown",
      "metadata": {
        "id": "S9fBPwMFeR8M"
      },
      "source": [
        "## NCE with non-uniform (unigram) and output bias initialised with $log(P_n)$ "
      ]
    },
    {
      "cell_type": "code",
      "execution_count": null,
      "metadata": {
        "id": "bYlwcKTueHdy",
        "outputId": "11a5a813-b9d9-4358-8d32-3d813793bb17"
      },
      "outputs": [
        {
          "name": "stdout",
          "output_type": "stream",
          "text": [
            "Epoch [1/50], Loss: -0.1262, Perplexity: 551.07, CE 6.3119, Normalization 1 ?= : 1.02, Duration : 0.72\n",
            "Epoch [2/50], Loss: -0.2878, Perplexity: 347.84, CE 5.8517, Normalization 1 ?= : 1.02, Duration : 0.72\n",
            "Epoch [3/50], Loss: -0.3908, Perplexity: 270.64, CE 5.6008, Normalization 1 ?= : 1.01, Duration : 0.72\n",
            "Epoch [4/50], Loss: -0.4440, Perplexity: 229.57, CE 5.4362, Normalization 1 ?= : 1.01, Duration : 0.72\n",
            "Epoch [5/50], Loss: -0.4585, Perplexity: 202.73, CE 5.3119, Normalization 1 ?= : 1.01, Duration : 0.72\n",
            "Epoch [6/50], Loss: -0.4814, Perplexity: 183.45, CE 5.2120, Normalization 1 ?= : 1.01, Duration : 0.72\n",
            "Epoch [7/50], Loss: -0.4970, Perplexity: 168.81, CE 5.1288, Normalization 1 ?= : 1.00, Duration : 0.72\n",
            "Epoch [8/50], Loss: -0.4666, Perplexity: 157.19, CE 5.0575, Normalization 1 ?= : 1.00, Duration : 0.72\n",
            "Epoch [9/50], Loss: -0.5249, Perplexity: 147.67, CE 4.9950, Normalization 1 ?= : 1.00, Duration : 0.72\n",
            "Epoch [10/50], Loss: -0.5178, Perplexity: 139.69, CE 4.9394, Normalization 1 ?= : 1.00, Duration : 0.72\n",
            "Epoch [11/50], Loss: -0.5166, Perplexity: 132.90, CE 4.8896, Normalization 1 ?= : 1.00, Duration : 0.72\n",
            "Epoch [12/50], Loss: -0.5081, Perplexity: 126.94, CE 4.8437, Normalization 1 ?= : 1.00, Duration : 0.72\n",
            "Epoch [13/50], Loss: -0.5001, Perplexity: 121.74, CE 4.8019, Normalization 1 ?= : 1.00, Duration : 0.72\n",
            "Epoch [14/50], Loss: -0.4838, Perplexity: 117.10, CE 4.7630, Normalization 1 ?= : 1.00, Duration : 0.72\n",
            "Epoch [15/50], Loss: -0.4563, Perplexity: 112.90, CE 4.7265, Normalization 1 ?= : 0.99, Duration : 0.72\n",
            "Epoch [16/50], Loss: -0.4488, Perplexity: 109.13, CE 4.6925, Normalization 1 ?= : 0.99, Duration : 0.72\n",
            "Epoch [17/50], Loss: -0.4375, Perplexity: 105.68, CE 4.6604, Normalization 1 ?= : 0.99, Duration : 0.73\n",
            "Epoch [18/50], Loss: -0.3955, Perplexity: 102.54, CE 4.6303, Normalization 1 ?= : 0.98, Duration : 0.72\n",
            "Epoch [19/50], Loss: -0.3606, Perplexity: 99.64, CE 4.6015, Normalization 1 ?= : 0.97, Duration : 0.72\n",
            "Epoch [20/50], Loss: -0.3697, Perplexity: 96.97, CE 4.5744, Normalization 1 ?= : 0.97, Duration : 0.72\n",
            "Epoch [21/50], Loss: -0.3693, Perplexity: 94.50, CE 4.5486, Normalization 1 ?= : 0.98, Duration : 0.72\n",
            "Epoch [22/50], Loss: -0.3853, Perplexity: 92.16, CE 4.5236, Normalization 1 ?= : 0.97, Duration : 0.72\n",
            "Epoch [23/50], Loss: -0.3920, Perplexity: 90.04, CE 4.5002, Normalization 1 ?= : 0.98, Duration : 0.72\n",
            "Epoch [24/50], Loss: -0.4097, Perplexity: 88.03, CE 4.4777, Normalization 1 ?= : 0.98, Duration : 0.72\n",
            "Epoch [25/50], Loss: -0.3714, Perplexity: 86.17, CE 4.4563, Normalization 1 ?= : 0.97, Duration : 0.72\n",
            "Epoch [26/50], Loss: -0.3487, Perplexity: 84.41, CE 4.4357, Normalization 1 ?= : 0.97, Duration : 0.73\n",
            "Epoch [27/50], Loss: -0.3967, Perplexity: 82.75, CE 4.4158, Normalization 1 ?= : 0.97, Duration : 0.73\n",
            "Epoch [28/50], Loss: -0.4080, Perplexity: 81.12, CE 4.3959, Normalization 1 ?= : 0.97, Duration : 0.72\n",
            "Epoch [29/50], Loss: -0.4025, Perplexity: 79.52, CE 4.3760, Normalization 1 ?= : 0.97, Duration : 0.72\n",
            "Epoch [30/50], Loss: -0.4295, Perplexity: 78.02, CE 4.3569, Normalization 1 ?= : 0.98, Duration : 0.72\n",
            "Epoch [31/50], Loss: -0.4386, Perplexity: 76.60, CE 4.3386, Normalization 1 ?= : 0.99, Duration : 0.72\n",
            "Epoch [32/50], Loss: -0.4216, Perplexity: 75.26, CE 4.3210, Normalization 1 ?= : 0.98, Duration : 0.72\n",
            "Epoch [33/50], Loss: -0.4334, Perplexity: 74.04, CE 4.3045, Normalization 1 ?= : 0.98, Duration : 0.72\n",
            "Epoch [34/50], Loss: -0.4489, Perplexity: 72.86, CE 4.2886, Normalization 1 ?= : 0.98, Duration : 0.72\n",
            "Epoch [35/50], Loss: -0.4235, Perplexity: 71.79, CE 4.2737, Normalization 1 ?= : 0.98, Duration : 0.72\n",
            "Epoch [36/50], Loss: -0.4463, Perplexity: 70.76, CE 4.2593, Normalization 1 ?= : 0.98, Duration : 0.72\n",
            "Epoch [37/50], Loss: -0.4314, Perplexity: 69.65, CE 4.2435, Normalization 1 ?= : 0.98, Duration : 0.72\n",
            "Epoch [38/50], Loss: -0.3830, Perplexity: 68.54, CE 4.2275, Normalization 1 ?= : 0.98, Duration : 0.72\n",
            "Epoch [39/50], Loss: -0.3795, Perplexity: 67.47, CE 4.2117, Normalization 1 ?= : 0.98, Duration : 0.73\n",
            "Epoch [40/50], Loss: -0.3425, Perplexity: 66.47, CE 4.1968, Normalization 1 ?= : 0.97, Duration : 0.72\n",
            "Epoch [41/50], Loss: -0.3574, Perplexity: 65.49, CE 4.1819, Normalization 1 ?= : 0.97, Duration : 0.72\n",
            "Epoch [42/50], Loss: -0.3364, Perplexity: 64.61, CE 4.1683, Normalization 1 ?= : 0.97, Duration : 0.73\n",
            "Epoch [43/50], Loss: -0.3261, Perplexity: 63.75, CE 4.1549, Normalization 1 ?= : 0.96, Duration : 0.72\n",
            "Epoch [44/50], Loss: -0.3364, Perplexity: 62.89, CE 4.1413, Normalization 1 ?= : 0.97, Duration : 0.72\n",
            "Epoch [45/50], Loss: -0.3547, Perplexity: 62.10, CE 4.1288, Normalization 1 ?= : 0.96, Duration : 0.72\n",
            "Epoch [46/50], Loss: -0.3212, Perplexity: 61.33, CE 4.1162, Normalization 1 ?= : 0.96, Duration : 0.72\n",
            "Epoch [47/50], Loss: -0.3202, Perplexity: 60.58, CE 4.1039, Normalization 1 ?= : 0.96, Duration : 0.72\n",
            "Epoch [48/50], Loss: -0.3279, Perplexity: 59.87, CE 4.0921, Normalization 1 ?= : 0.96, Duration : 0.72\n",
            "Epoch [49/50], Loss: -0.3333, Perplexity: 59.17, CE 4.0803, Normalization 1 ?= : 0.96, Duration : 0.72\n",
            "Epoch [50/50], Loss: -0.3612, Perplexity: 58.49, CE 4.0689, Normalization 1 ?= : 0.96, Duration : 0.72\n",
            "\n",
            "==================================\n",
            "Test\n",
            "==================================\n",
            "Perplexity: 145.14, CE 4.9777, Duration : 0.02\n",
            "--------------------------\n",
            " the <unk> N N N N N N N N N N N N N N N N N N\n",
            "--------------------------\n",
            " N N N N N N N N N N N N N N N N N N N N\n",
            "--------------------------\n",
            " been <unk> N N N N N N N N N N N N N N N N N N\n",
            "--------------------------\n",
            " 's N N N N N N N N N N N N N N N N N N N\n",
            "--------------------------\n",
            " the <unk> N N N N N N N N N N N N N N N N N N\n"
          ]
        }
      ],
      "source": [
        "Q = Categorical(torch.tensor(freqs))\n",
        "model = lm(vocab_size, embed_size, hidden_size, num_layers, initialise_bias = True).to(device)\n",
        "nce_loss = NCELoss(Q = Q , train_partition = False, log_Z = 0).to(device)\n",
        "optimizer = torch.optim.Adam(list(model.parameters()) + list(nce_loss.parameters()), lr= 1e-3)\n",
        "model, nce_ce_non_uni_bias ,nce_non_part_bias = train(model,\n",
        "                                                      optimizer,\n",
        "                                                      nce_loss, \n",
        "                                                      (train_sentences, train_masks , batch_size))\n",
        "\n",
        "for _ in range(5):\n",
        "    print('--------------------------')\n",
        "    print(generate_text(model , Q))"
      ]
    },
    {
      "cell_type": "markdown",
      "metadata": {
        "id": "FmzlOmX9fJb2"
      },
      "source": [
        "## NCE with unigram (non-uniform) and $k = 500$"
      ]
    },
    {
      "cell_type": "code",
      "execution_count": null,
      "metadata": {
        "id": "l3iZXTKCe7r9",
        "outputId": "cedc3907-6960-4c3e-f0e3-c01e5e302c7a"
      },
      "outputs": [
        {
          "name": "stdout",
          "output_type": "stream",
          "text": [
            "Epoch [1/50], Loss: -0.0100, Perplexity: 3875.56, CE 8.2624, Normalization 1 ?= : 1.04, Duration : 2.00\n",
            "Epoch [2/50], Loss: -0.0460, Perplexity: 721.25, CE 6.5810, Normalization 1 ?= : 1.06, Duration : 2.00\n",
            "Epoch [3/50], Loss: 0.0051, Perplexity: 714.99, CE 6.5723, Normalization 1 ?= : 1.05, Duration : 2.00\n",
            "Epoch [4/50], Loss: 0.0290, Perplexity: 715.92, CE 6.5736, Normalization 1 ?= : 1.05, Duration : 2.00\n",
            "Epoch [5/50], Loss: 0.0376, Perplexity: 716.60, CE 6.5745, Normalization 1 ?= : 1.04, Duration : 2.00\n",
            "Epoch [6/50], Loss: -0.1876, Perplexity: 714.37, CE 6.5714, Normalization 1 ?= : 1.07, Duration : 2.00\n",
            "Epoch [7/50], Loss: -0.4491, Perplexity: 699.54, CE 6.5504, Normalization 1 ?= : 1.08, Duration : 2.00\n",
            "Epoch [8/50], Loss: -0.3906, Perplexity: 661.86, CE 6.4950, Normalization 1 ?= : 1.06, Duration : 1.98\n",
            "Epoch [9/50], Loss: -0.4393, Perplexity: 600.12, CE 6.3971, Normalization 1 ?= : 1.05, Duration : 1.96\n",
            "Epoch [10/50], Loss: -0.4166, Perplexity: 536.31, CE 6.2847, Normalization 1 ?= : 1.04, Duration : 1.95\n",
            "Epoch [11/50], Loss: -0.3772, Perplexity: 484.86, CE 6.1839, Normalization 1 ?= : 1.03, Duration : 1.96\n",
            "Epoch [12/50], Loss: -0.3362, Perplexity: 445.42, CE 6.0990, Normalization 1 ?= : 1.02, Duration : 1.95\n",
            "Epoch [13/50], Loss: -0.3261, Perplexity: 413.29, CE 6.0242, Normalization 1 ?= : 1.02, Duration : 1.95\n",
            "Epoch [14/50], Loss: -0.3143, Perplexity: 386.19, CE 5.9563, Normalization 1 ?= : 1.02, Duration : 1.95\n",
            "Epoch [15/50], Loss: -0.2877, Perplexity: 363.27, CE 5.8951, Normalization 1 ?= : 1.01, Duration : 1.95\n",
            "Epoch [16/50], Loss: -0.2887, Perplexity: 343.61, CE 5.8395, Normalization 1 ?= : 1.01, Duration : 1.95\n",
            "Epoch [17/50], Loss: -0.2765, Perplexity: 326.58, CE 5.7887, Normalization 1 ?= : 1.01, Duration : 1.96\n",
            "Epoch [18/50], Loss: -0.2777, Perplexity: 311.49, CE 5.7414, Normalization 1 ?= : 1.01, Duration : 1.95\n",
            "Epoch [19/50], Loss: -0.2690, Perplexity: 298.09, CE 5.6974, Normalization 1 ?= : 1.01, Duration : 1.95\n",
            "Epoch [20/50], Loss: -0.2478, Perplexity: 286.16, CE 5.6566, Normalization 1 ?= : 1.01, Duration : 1.95\n",
            "Epoch [21/50], Loss: -0.2461, Perplexity: 275.44, CE 5.6184, Normalization 1 ?= : 1.00, Duration : 1.96\n",
            "Epoch [22/50], Loss: -0.2513, Perplexity: 265.57, CE 5.5819, Normalization 1 ?= : 1.00, Duration : 1.96\n",
            "Epoch [23/50], Loss: -0.2435, Perplexity: 256.62, CE 5.5476, Normalization 1 ?= : 1.00, Duration : 1.95\n",
            "Epoch [24/50], Loss: -0.2490, Perplexity: 248.39, CE 5.5150, Normalization 1 ?= : 1.00, Duration : 1.96\n",
            "Epoch [25/50], Loss: -0.2572, Perplexity: 240.80, CE 5.4840, Normalization 1 ?= : 1.00, Duration : 1.96\n",
            "Epoch [26/50], Loss: -0.2638, Perplexity: 233.72, CE 5.4541, Normalization 1 ?= : 1.01, Duration : 1.95\n",
            "Epoch [27/50], Loss: -0.2598, Perplexity: 227.14, CE 5.4256, Normalization 1 ?= : 1.00, Duration : 1.96\n",
            "Epoch [28/50], Loss: -0.2274, Perplexity: 220.91, CE 5.3977, Normalization 1 ?= : 1.00, Duration : 1.95\n",
            "Epoch [29/50], Loss: -0.2407, Perplexity: 215.08, CE 5.3710, Normalization 1 ?= : 1.00, Duration : 1.96\n",
            "Epoch [30/50], Loss: -0.2479, Perplexity: 209.59, CE 5.3452, Normalization 1 ?= : 1.00, Duration : 1.95\n",
            "Epoch [31/50], Loss: -0.2192, Perplexity: 204.34, CE 5.3198, Normalization 1 ?= : 0.99, Duration : 1.96\n",
            "Epoch [32/50], Loss: -0.2114, Perplexity: 199.32, CE 5.2949, Normalization 1 ?= : 0.99, Duration : 1.96\n",
            "Epoch [33/50], Loss: -0.2268, Perplexity: 194.53, CE 5.2706, Normalization 1 ?= : 0.99, Duration : 1.95\n",
            "Epoch [34/50], Loss: -0.2403, Perplexity: 189.99, CE 5.2470, Normalization 1 ?= : 0.99, Duration : 1.95\n",
            "Epoch [35/50], Loss: -0.2264, Perplexity: 185.66, CE 5.2239, Normalization 1 ?= : 0.99, Duration : 1.96\n",
            "Epoch [36/50], Loss: -0.2440, Perplexity: 181.59, CE 5.2018, Normalization 1 ?= : 0.99, Duration : 1.96\n",
            "Epoch [37/50], Loss: -0.2493, Perplexity: 177.65, CE 5.1798, Normalization 1 ?= : 0.99, Duration : 1.96\n",
            "Epoch [38/50], Loss: -0.2296, Perplexity: 173.88, CE 5.1584, Normalization 1 ?= : 0.99, Duration : 1.96\n",
            "Epoch [39/50], Loss: -0.2408, Perplexity: 170.34, CE 5.1378, Normalization 1 ?= : 0.99, Duration : 1.95\n",
            "Epoch [40/50], Loss: -0.2377, Perplexity: 166.92, CE 5.1175, Normalization 1 ?= : 0.99, Duration : 1.96\n",
            "Epoch [41/50], Loss: -0.2446, Perplexity: 163.64, CE 5.0977, Normalization 1 ?= : 0.99, Duration : 1.95\n",
            "Epoch [42/50], Loss: -0.2255, Perplexity: 160.50, CE 5.0783, Normalization 1 ?= : 0.99, Duration : 1.96\n",
            "Epoch [43/50], Loss: -0.2601, Perplexity: 157.42, CE 5.0589, Normalization 1 ?= : 1.00, Duration : 1.95\n",
            "Epoch [44/50], Loss: -0.2359, Perplexity: 154.46, CE 5.0399, Normalization 1 ?= : 0.99, Duration : 1.96\n",
            "Epoch [45/50], Loss: -0.2418, Perplexity: 151.60, CE 5.0212, Normalization 1 ?= : 0.99, Duration : 1.95\n",
            "Epoch [46/50], Loss: -0.2399, Perplexity: 148.85, CE 5.0030, Normalization 1 ?= : 0.99, Duration : 1.96\n",
            "Epoch [47/50], Loss: -0.2592, Perplexity: 146.19, CE 4.9849, Normalization 1 ?= : 0.99, Duration : 1.95\n",
            "Epoch [48/50], Loss: -0.2332, Perplexity: 143.62, CE 4.9672, Normalization 1 ?= : 0.99, Duration : 1.95\n",
            "Epoch [49/50], Loss: -0.2247, Perplexity: 141.19, CE 4.9501, Normalization 1 ?= : 0.99, Duration : 1.96\n",
            "Epoch [50/50], Loss: -0.2185, Perplexity: 138.83, CE 4.9332, Normalization 1 ?= : 0.99, Duration : 1.95\n",
            "\n",
            "==================================\n",
            "Test\n",
            "==================================\n",
            "Perplexity: 166.29, CE 5.1137, Duration : 0.01\n",
            "--------------------------\n",
            " be with the <unk> is the <unk> is the <unk> is the <unk> is the <unk> is the <unk> is\n",
            "--------------------------\n",
            " for the <unk> is the <unk> is the <unk> is the <unk> is the <unk> is the <unk> is the\n",
            "--------------------------\n",
            " is the <unk> is the <unk> is the <unk> is the <unk> is the <unk> is the <unk> is the\n",
            "--------------------------\n",
            " mae example were exchange 's also estate nov. N months N months N months N months N months N months\n",
            "--------------------------\n",
            " result the <unk> is the <unk> is the <unk> is the <unk> is the <unk> is the <unk> is the\n"
          ]
        }
      ],
      "source": [
        "Q = Categorical(torch.tensor(freqs))\n",
        "model = lm(vocab_size, embed_size, hidden_size, num_layers).to(device)\n",
        "nce_loss = NCELoss(Q = Q , train_partition = False, log_Z = 0 , Ns = 500).to(device)\n",
        "optimizer = torch.optim.Adam(list(model.parameters()) + list(nce_loss.parameters()), lr= 1e-3)\n",
        "model, nce_ce_non_uni_k500 ,nce_non_part_k500 = train(model,\n",
        "                                                      optimizer,\n",
        "                                                      nce_loss, \n",
        "                                                      (train_sentences, train_masks , batch_size))\n",
        "\n",
        "for _ in range(5):\n",
        "    print('--------------------------')\n",
        "    print(generate_text(model , Q))"
      ]
    },
    {
      "cell_type": "markdown",
      "metadata": {
        "id": "eEDRoM2lUbYv"
      },
      "source": [
        "## Negative Sampling with unigram (non-uniform) and $k = 500$"
      ]
    },
    {
      "cell_type": "code",
      "execution_count": null,
      "metadata": {
        "id": "Bu82_ZvTUJP2",
        "outputId": "464f7f2c-461f-4c91-9457-208498450af5"
      },
      "outputs": [
        {
          "name": "stdout",
          "output_type": "stream",
          "text": [
            "Epoch [1/50], Loss: 7.3364, Perplexity: 11854.37, CE 9.3805, Normalization 1 ?= :16.13, Duration : 1.87\n",
            "Epoch [2/50], Loss: 7.2466, Perplexity: 9507.12, CE 9.1598, Normalization 1 ?= :21.78, Duration : 1.87\n",
            "Epoch [3/50], Loss: 7.1499, Perplexity: 10234.14, CE 9.2335, Normalization 1 ?= :22.75, Duration : 1.87\n",
            "Epoch [4/50], Loss: 7.0146, Perplexity: 9456.66, CE 9.1545, Normalization 1 ?= :22.49, Duration : 1.86\n",
            "Epoch [5/50], Loss: 6.8769, Perplexity: 8296.22, CE 9.0236, Normalization 1 ?= :22.17, Duration : 1.87\n",
            "Epoch [6/50], Loss: 6.7539, Perplexity: 7233.84, CE 8.8865, Normalization 1 ?= :21.74, Duration : 1.87\n",
            "Epoch [7/50], Loss: 6.6459, Perplexity: 6350.91, CE 8.7564, Normalization 1 ?= :21.74, Duration : 1.86\n",
            "Epoch [8/50], Loss: 6.5493, Perplexity: 5675.43, CE 8.6439, Normalization 1 ?= :21.60, Duration : 1.87\n",
            "Epoch [9/50], Loss: 6.4646, Perplexity: 5129.10, CE 8.5427, Normalization 1 ?= :21.48, Duration : 1.87\n",
            "Epoch [10/50], Loss: 6.3878, Perplexity: 4699.79, CE 8.4553, Normalization 1 ?= :21.43, Duration : 1.86\n",
            "Epoch [11/50], Loss: 6.3188, Perplexity: 4347.56, CE 8.3774, Normalization 1 ?= :21.34, Duration : 1.87\n",
            "Epoch [12/50], Loss: 6.2600, Perplexity: 4051.13, CE 8.3068, Normalization 1 ?= :21.20, Duration : 1.86\n",
            "Epoch [13/50], Loss: 6.2060, Perplexity: 3803.19, CE 8.2436, Normalization 1 ?= :21.08, Duration : 1.87\n",
            "Epoch [14/50], Loss: 6.1565, Perplexity: 3589.06, CE 8.1856, Normalization 1 ?= :20.99, Duration : 1.87\n",
            "Epoch [15/50], Loss: 6.1125, Perplexity: 3407.43, CE 8.1337, Normalization 1 ?= :20.91, Duration : 1.87\n",
            "Epoch [16/50], Loss: 6.0702, Perplexity: 3245.88, CE 8.0851, Normalization 1 ?= :20.82, Duration : 1.87\n",
            "Epoch [17/50], Loss: 6.0308, Perplexity: 3102.50, CE 8.0400, Normalization 1 ?= :20.75, Duration : 1.87\n",
            "Epoch [18/50], Loss: 5.9980, Perplexity: 2973.95, CE 7.9976, Normalization 1 ?= :20.76, Duration : 1.87\n",
            "Epoch [19/50], Loss: 5.9636, Perplexity: 2859.46, CE 7.9584, Normalization 1 ?= :20.73, Duration : 1.87\n",
            "Epoch [20/50], Loss: 5.9342, Perplexity: 2756.35, CE 7.9217, Normalization 1 ?= :20.68, Duration : 1.87\n",
            "Epoch [21/50], Loss: 5.9027, Perplexity: 2659.09, CE 7.8857, Normalization 1 ?= :20.62, Duration : 1.87\n",
            "Epoch [22/50], Loss: 5.8748, Perplexity: 2569.01, CE 7.8513, Normalization 1 ?= :20.62, Duration : 1.86\n",
            "Epoch [23/50], Loss: 5.8438, Perplexity: 2483.74, CE 7.8175, Normalization 1 ?= :20.55, Duration : 1.87\n",
            "Epoch [24/50], Loss: 5.8211, Perplexity: 2404.98, CE 7.7853, Normalization 1 ?= :20.53, Duration : 1.86\n",
            "Epoch [25/50], Loss: 5.7948, Perplexity: 2331.82, CE 7.7544, Normalization 1 ?= :20.50, Duration : 1.87\n",
            "Epoch [26/50], Loss: 5.7716, Perplexity: 2264.03, CE 7.7249, Normalization 1 ?= :20.52, Duration : 1.87\n",
            "Epoch [27/50], Loss: 5.7467, Perplexity: 2199.34, CE 7.6959, Normalization 1 ?= :20.48, Duration : 1.86\n",
            "Epoch [28/50], Loss: 5.7241, Perplexity: 2137.90, CE 7.6676, Normalization 1 ?= :20.50, Duration : 1.87\n",
            "Epoch [29/50], Loss: 5.7002, Perplexity: 2079.01, CE 7.6396, Normalization 1 ?= :20.40, Duration : 1.86\n",
            "Epoch [30/50], Loss: 5.6785, Perplexity: 2018.56, CE 7.6101, Normalization 1 ?= :20.29, Duration : 1.87\n",
            "Epoch [31/50], Loss: 5.6556, Perplexity: 1965.56, CE 7.5835, Normalization 1 ?= :20.37, Duration : 1.86\n",
            "Epoch [32/50], Loss: 5.6372, Perplexity: 1915.07, CE 7.5575, Normalization 1 ?= :20.27, Duration : 1.87\n",
            "Epoch [33/50], Loss: 5.6127, Perplexity: 1868.64, CE 7.5330, Normalization 1 ?= :20.20, Duration : 1.86\n",
            "Epoch [34/50], Loss: 5.5969, Perplexity: 1823.50, CE 7.5085, Normalization 1 ?= :20.13, Duration : 1.86\n",
            "Epoch [35/50], Loss: 5.5767, Perplexity: 1780.73, CE 7.4848, Normalization 1 ?= :20.08, Duration : 1.88\n",
            "Epoch [36/50], Loss: 5.5596, Perplexity: 1739.40, CE 7.4613, Normalization 1 ?= :20.01, Duration : 1.87\n",
            "Epoch [37/50], Loss: 5.5410, Perplexity: 1700.04, CE 7.4384, Normalization 1 ?= :19.95, Duration : 1.86\n",
            "Epoch [38/50], Loss: 5.5230, Perplexity: 1662.63, CE 7.4162, Normalization 1 ?= :19.85, Duration : 1.87\n",
            "Epoch [39/50], Loss: 5.5058, Perplexity: 1627.09, CE 7.3945, Normalization 1 ?= :19.87, Duration : 1.87\n",
            "Epoch [40/50], Loss: 5.4895, Perplexity: 1594.54, CE 7.3743, Normalization 1 ?= :19.92, Duration : 1.87\n",
            "Epoch [41/50], Loss: 5.4756, Perplexity: 1561.83, CE 7.3536, Normalization 1 ?= :19.77, Duration : 1.86\n",
            "Epoch [42/50], Loss: 5.4602, Perplexity: 1529.85, CE 7.3329, Normalization 1 ?= :19.67, Duration : 1.86\n",
            "Epoch [43/50], Loss: 5.4436, Perplexity: 1499.80, CE 7.3131, Normalization 1 ?= :19.68, Duration : 1.87\n",
            "Epoch [44/50], Loss: 5.4281, Perplexity: 1472.34, CE 7.2946, Normalization 1 ?= :19.64, Duration : 1.87\n",
            "Epoch [45/50], Loss: 5.4107, Perplexity: 1443.37, CE 7.2747, Normalization 1 ?= :19.66, Duration : 1.86\n",
            "Epoch [46/50], Loss: 5.4017, Perplexity: 1416.06, CE 7.2556, Normalization 1 ?= :19.62, Duration : 1.86\n",
            "Epoch [47/50], Loss: 5.3839, Perplexity: 1390.84, CE 7.2377, Normalization 1 ?= :19.51, Duration : 1.86\n",
            "Epoch [48/50], Loss: 5.3699, Perplexity: 1367.13, CE 7.2205, Normalization 1 ?= :19.53, Duration : 1.87\n",
            "Epoch [49/50], Loss: 5.3576, Perplexity: 1343.19, CE 7.2028, Normalization 1 ?= :19.51, Duration : 1.86\n",
            "Epoch [50/50], Loss: 5.3461, Perplexity: 1319.34, CE 7.1849, Normalization 1 ?= :19.45, Duration : 1.87\n",
            "\n",
            "==================================\n",
            "Test\n",
            "==================================\n",
            "Perplexity: 1942.92, CE 7.5719, Duration : 0.01\n",
            "--------------------------\n",
            " counterpart summer interbank comment officials n't sure equity-purchase committing indicating bracing mortgage roebuck n. herbert k. edgar francisco harris upham\n",
            "--------------------------\n",
            " vice president bush spokesman telerate telesis & mclennan u.s.a marvin one-year adjustable rate yen poor placed nabisco estate angeles-based existing\n",
            "--------------------------\n",
            " 13th obligation lambert inc. officer e. burke airways taipei barron struggles freddie mac shack rica five-cent witter yield exclude inc\n",
            "--------------------------\n",
            " 13th obligation lambert inc. officer e. burke airways taipei barron struggles freddie mac shack rica five-cent witter yield exclude inc\n",
            "--------------------------\n",
            " maintain over-the-counter trading exchange burnham lambert inc. officer e. burke airways taipei barron struggles freddie mac shack rica five-cent witter\n"
          ]
        }
      ],
      "source": [
        "Q = Categorical(torch.tensor(freqs))\n",
        "model = lm(vocab_size, embed_size, hidden_size, num_layers).to(device)\n",
        "neg_loss = NEGLoss(Q = Q, Ns = 500).to(device)\n",
        "optimizer = torch.optim.Adam(list(model.parameters()) + list(neg_loss.parameters()), lr = 1e-3)\n",
        "model, neg_ces ,neg_sums = train(model,\n",
        "                                 optimizer,\n",
        "                                 neg_loss, \n",
        "                                 (train_sentences, train_masks , batch_size))\n",
        "\n",
        "for _ in range(5):\n",
        "    print('--------------------------')\n",
        "    print(generate_text(model , Q))"
      ]
    },
    {
      "cell_type": "markdown",
      "metadata": {
        "id": "JYIN9DAVOe2r"
      },
      "source": [
        "# Plot losses"
      ]
    },
    {
      "cell_type": "code",
      "execution_count": null,
      "metadata": {
        "id": "PUFcC4SjQlp9",
        "outputId": "ef0274dd-3e86-4b94-c119-1f5e7a5f96aa"
      },
      "outputs": [
        {
          "data": {
            "image/png": "[encoded data removed]",
            "text/plain": [
              "<Figure size 720x504 with 1 Axes>"
            ]
          },
          "metadata": {
            "needs_background": "light"
          },
          "output_type": "display_data"
        }
      ],
      "source": [
        "plt.figure(figsize=(10,7))\n",
        "plt.plot(nce_ce_uni , label = 'NCE Pn=uniform and Zc = 1')\n",
        "plt.plot(nce_ce_non_uni , label = 'NCE Pn=unigram and Zc = 1')\n",
        "plt.plot(nce_ce_non_uni_bias, label = 'NCE Pn=unigram ; bias=log(Pn)')\n",
        "plt.plot(nce_ce_non_uni_k500, label = 'NCE Pn=unigram ; k=500')\n",
        "plt.plot(is_ce_uni, label = 'IS Pn=uniform')\n",
        "plt.plot(is_ce_non_uni, label = 'IS Pn=unigram')\n",
        "plt.plot(neg_ces, label = 'NS Pn=unigram')\n",
        "plt.xlabel(\"Epochs\")\n",
        "plt.ylabel(\"Cross-Entropy\")\n",
        "plt.legend()\n",
        "plt.show()"
      ]
    },
    {
      "cell_type": "markdown",
      "metadata": {
        "id": "JsgnQObIRVbZ"
      },
      "source": [
        "## NCE with trainable partition function"
      ]
    },
    {
      "cell_type": "code",
      "execution_count": null,
      "metadata": {
        "id": "5hpQ3RNPOe2u",
        "outputId": "07350135-4865-4908-bf11-42787d0cb9f1"
      },
      "outputs": [
        {
          "name": "stdout",
          "output_type": "stream",
          "text": [
            "Epoch [1/50], Loss: 0.2574, Perplexity: 1474.40, CE 7.2960, Normalization 1 ?= : 0.97, Duration : 0.63\n",
            "Epoch [2/50], Loss: -0.0764, Perplexity: 608.53, CE 6.4110, Normalization 1 ?= : 0.99, Duration : 0.63\n",
            "Epoch [3/50], Loss: -0.1895, Perplexity: 486.76, CE 6.1878, Normalization 1 ?= : 1.00, Duration : 0.63\n",
            "Epoch [4/50], Loss: -0.2503, Perplexity: 402.45, CE 5.9976, Normalization 1 ?= : 1.00, Duration : 0.63\n",
            "Epoch [5/50], Loss: -0.2693, Perplexity: 346.25, CE 5.8472, Normalization 1 ?= : 1.00, Duration : 0.63\n",
            "Epoch [6/50], Loss: -0.2748, Perplexity: 307.64, CE 5.7289, Normalization 1 ?= : 1.00, Duration : 0.63\n",
            "Epoch [7/50], Loss: -0.2851, Perplexity: 279.52, CE 5.6331, Normalization 1 ?= : 1.00, Duration : 0.62\n",
            "Epoch [8/50], Loss: -0.2904, Perplexity: 257.59, CE 5.5514, Normalization 1 ?= : 1.00, Duration : 0.63\n",
            "Epoch [9/50], Loss: -0.2898, Perplexity: 239.93, CE 5.4803, Normalization 1 ?= : 1.00, Duration : 0.63\n",
            "Epoch [10/50], Loss: -0.2895, Perplexity: 225.32, CE 5.4175, Normalization 1 ?= : 1.00, Duration : 0.63\n",
            "Epoch [11/50], Loss: -0.2947, Perplexity: 212.99, CE 5.3612, Normalization 1 ?= : 1.00, Duration : 0.63\n",
            "Epoch [12/50], Loss: -0.2919, Perplexity: 202.39, CE 5.3102, Normalization 1 ?= : 1.00, Duration : 0.63\n",
            "Epoch [13/50], Loss: -0.2743, Perplexity: 193.16, CE 5.2635, Normalization 1 ?= : 0.99, Duration : 0.63\n",
            "Epoch [14/50], Loss: -0.2876, Perplexity: 185.03, CE 5.2205, Normalization 1 ?= : 0.99, Duration : 0.64\n",
            "Epoch [15/50], Loss: -0.2897, Perplexity: 177.80, CE 5.1806, Normalization 1 ?= : 0.99, Duration : 0.63\n",
            "Epoch [16/50], Loss: -0.2765, Perplexity: 171.29, CE 5.1434, Normalization 1 ?= : 0.98, Duration : 0.63\n",
            "Epoch [17/50], Loss: -0.2757, Perplexity: 165.42, CE 5.1085, Normalization 1 ?= : 0.98, Duration : 0.63\n",
            "Epoch [18/50], Loss: -0.2659, Perplexity: 160.10, CE 5.0758, Normalization 1 ?= : 0.98, Duration : 0.63\n",
            "Epoch [19/50], Loss: -0.2856, Perplexity: 155.25, CE 5.0451, Normalization 1 ?= : 0.98, Duration : 0.63\n",
            "Epoch [20/50], Loss: -0.2837, Perplexity: 150.81, CE 5.0160, Normalization 1 ?= : 0.98, Duration : 0.63\n",
            "Epoch [21/50], Loss: -0.2656, Perplexity: 146.67, CE 4.9882, Normalization 1 ?= : 0.98, Duration : 0.63\n",
            "Epoch [22/50], Loss: -0.2658, Perplexity: 142.83, CE 4.9617, Normalization 1 ?= : 0.98, Duration : 0.63\n",
            "Epoch [23/50], Loss: -0.2779, Perplexity: 139.25, CE 4.9362, Normalization 1 ?= : 0.98, Duration : 0.63\n",
            "Epoch [24/50], Loss: -0.2533, Perplexity: 135.87, CE 4.9117, Normalization 1 ?= : 0.97, Duration : 0.62\n",
            "Epoch [25/50], Loss: -0.2772, Perplexity: 132.72, CE 4.8882, Normalization 1 ?= : 0.97, Duration : 0.63\n",
            "Epoch [26/50], Loss: -0.2754, Perplexity: 129.73, CE 4.8655, Normalization 1 ?= : 0.97, Duration : 0.63\n",
            "Epoch [27/50], Loss: -0.2675, Perplexity: 126.94, CE 4.8437, Normalization 1 ?= : 0.97, Duration : 0.63\n",
            "Epoch [28/50], Loss: -0.2537, Perplexity: 124.32, CE 4.8228, Normalization 1 ?= : 0.97, Duration : 0.63\n",
            "Epoch [29/50], Loss: -0.2738, Perplexity: 121.82, CE 4.8026, Normalization 1 ?= : 0.97, Duration : 0.62\n",
            "Epoch [30/50], Loss: -0.2728, Perplexity: 119.45, CE 4.7829, Normalization 1 ?= : 0.97, Duration : 0.63\n",
            "Epoch [31/50], Loss: -0.2705, Perplexity: 117.16, CE 4.7636, Normalization 1 ?= : 0.97, Duration : 0.63\n",
            "Epoch [32/50], Loss: -0.2338, Perplexity: 115.02, CE 4.7451, Normalization 1 ?= : 0.97, Duration : 0.63\n",
            "Epoch [33/50], Loss: -0.2429, Perplexity: 112.97, CE 4.7271, Normalization 1 ?= : 0.97, Duration : 0.63\n",
            "Epoch [34/50], Loss: -0.2464, Perplexity: 111.01, CE 4.7096, Normalization 1 ?= : 0.96, Duration : 0.62\n",
            "Epoch [35/50], Loss: -0.2405, Perplexity: 109.13, CE 4.6926, Normalization 1 ?= : 0.96, Duration : 0.63\n",
            "Epoch [36/50], Loss: -0.2194, Perplexity: 107.35, CE 4.6761, Normalization 1 ?= : 0.96, Duration : 0.63\n",
            "Epoch [37/50], Loss: -0.2465, Perplexity: 105.61, CE 4.6597, Normalization 1 ?= : 0.96, Duration : 0.63\n",
            "Epoch [38/50], Loss: -0.2282, Perplexity: 103.94, CE 4.6438, Normalization 1 ?= : 0.96, Duration : 0.63\n",
            "Epoch [39/50], Loss: -0.2133, Perplexity: 102.37, CE 4.6286, Normalization 1 ?= : 0.96, Duration : 0.63\n",
            "Epoch [40/50], Loss: -0.2373, Perplexity: 100.81, CE 4.6133, Normalization 1 ?= : 0.97, Duration : 0.63\n",
            "Epoch [41/50], Loss: -0.2173, Perplexity: 99.33, CE 4.5985, Normalization 1 ?= : 0.97, Duration : 0.63\n",
            "Epoch [42/50], Loss: -0.2409, Perplexity: 97.91, CE 4.5841, Normalization 1 ?= : 0.97, Duration : 0.62\n",
            "Epoch [43/50], Loss: -0.2481, Perplexity: 96.53, CE 4.5699, Normalization 1 ?= : 0.97, Duration : 0.63\n",
            "Epoch [44/50], Loss: -0.2336, Perplexity: 95.19, CE 4.5558, Normalization 1 ?= : 0.97, Duration : 0.63\n",
            "Epoch [45/50], Loss: -0.2474, Perplexity: 93.88, CE 4.5420, Normalization 1 ?= : 0.96, Duration : 0.63\n",
            "Epoch [46/50], Loss: -0.2604, Perplexity: 92.67, CE 4.5290, Normalization 1 ?= : 0.96, Duration : 0.63\n",
            "Epoch [47/50], Loss: -0.2562, Perplexity: 91.42, CE 4.5154, Normalization 1 ?= : 0.96, Duration : 0.63\n",
            "Epoch [48/50], Loss: -0.2433, Perplexity: 90.24, CE 4.5025, Normalization 1 ?= : 0.96, Duration : 0.63\n",
            "Epoch [49/50], Loss: -0.2397, Perplexity: 89.08, CE 4.4895, Normalization 1 ?= : 0.96, Duration : 0.62\n",
            "Epoch [50/50], Loss: -0.2258, Perplexity: 87.98, CE 4.4771, Normalization 1 ?= : 0.95, Duration : 0.62\n",
            "\n",
            "==================================\n",
            "Test\n",
            "==================================\n",
            "Perplexity: 143.04, CE 4.9631, Duration : 0.00\n",
            "-----------------------------------------------------\n",
            "Epoch [1/50], Loss: -0.2298, Perplexity: 4718.93, CE 8.4593, Normalization 1 ?= : 1.08, Duration : 0.63\n",
            "Epoch [2/50], Loss: -0.0663, Perplexity: 718.87, CE 6.5777, Normalization 1 ?= : 1.06, Duration : 0.63\n",
            "Epoch [3/50], Loss: -0.0022, Perplexity: 710.16, CE 6.5655, Normalization 1 ?= : 1.05, Duration : 0.63\n",
            "Epoch [4/50], Loss: 0.0125, Perplexity: 706.35, CE 6.5601, Normalization 1 ?= : 1.05, Duration : 0.62\n",
            "Epoch [5/50], Loss: 0.0082, Perplexity: 699.25, CE 6.5500, Normalization 1 ?= : 1.05, Duration : 0.62\n",
            "Epoch [6/50], Loss: -0.0954, Perplexity: 688.27, CE 6.5342, Normalization 1 ?= : 1.05, Duration : 0.62\n",
            "Epoch [7/50], Loss: -0.5053, Perplexity: 669.27, CE 6.5062, Normalization 1 ?= : 1.08, Duration : 0.63\n",
            "Epoch [8/50], Loss: -0.4974, Perplexity: 627.83, CE 6.4423, Normalization 1 ?= : 1.06, Duration : 0.63\n",
            "Epoch [9/50], Loss: -0.4465, Perplexity: 568.50, CE 6.3430, Normalization 1 ?= : 1.05, Duration : 0.63\n",
            "Epoch [10/50], Loss: -0.4017, Perplexity: 516.53, CE 6.2471, Normalization 1 ?= : 1.03, Duration : 0.63\n",
            "Epoch [11/50], Loss: -0.3638, Perplexity: 474.15, CE 6.1615, Normalization 1 ?= : 1.02, Duration : 0.62\n",
            "Epoch [12/50], Loss: -0.3984, Perplexity: 438.24, CE 6.0828, Normalization 1 ?= : 1.02, Duration : 0.62\n",
            "Epoch [13/50], Loss: -0.3745, Perplexity: 407.45, CE 6.0099, Normalization 1 ?= : 1.02, Duration : 0.63\n",
            "Epoch [14/50], Loss: -0.3526, Perplexity: 381.28, CE 5.9435, Normalization 1 ?= : 1.01, Duration : 0.63\n",
            "Epoch [15/50], Loss: -0.3335, Perplexity: 358.90, CE 5.8830, Normalization 1 ?= : 1.01, Duration : 0.63\n",
            "Epoch [16/50], Loss: -0.3657, Perplexity: 339.68, CE 5.8280, Normalization 1 ?= : 1.01, Duration : 0.63\n",
            "Epoch [17/50], Loss: -0.3485, Perplexity: 322.84, CE 5.7772, Normalization 1 ?= : 1.01, Duration : 0.63\n",
            "Epoch [18/50], Loss: -0.3415, Perplexity: 308.00, CE 5.7301, Normalization 1 ?= : 1.01, Duration : 0.63\n",
            "Epoch [19/50], Loss: -0.3158, Perplexity: 294.76, CE 5.6862, Normalization 1 ?= : 1.01, Duration : 0.63\n",
            "Epoch [20/50], Loss: -0.3018, Perplexity: 282.85, CE 5.6449, Normalization 1 ?= : 1.00, Duration : 0.63\n",
            "Epoch [21/50], Loss: -0.2869, Perplexity: 272.03, CE 5.6059, Normalization 1 ?= : 1.00, Duration : 0.64\n",
            "Epoch [22/50], Loss: -0.2424, Perplexity: 262.15, CE 5.5689, Normalization 1 ?= : 0.99, Duration : 0.63\n",
            "Epoch [23/50], Loss: -0.2571, Perplexity: 253.18, CE 5.5341, Normalization 1 ?= : 0.99, Duration : 0.63\n",
            "Epoch [24/50], Loss: -0.2691, Perplexity: 244.94, CE 5.5010, Normalization 1 ?= : 0.99, Duration : 0.63\n",
            "Epoch [25/50], Loss: -0.2756, Perplexity: 237.27, CE 5.4692, Normalization 1 ?= : 1.00, Duration : 0.63\n",
            "Epoch [26/50], Loss: -0.2424, Perplexity: 230.18, CE 5.4389, Normalization 1 ?= : 0.99, Duration : 0.63\n",
            "Epoch [27/50], Loss: -0.2484, Perplexity: 223.54, CE 5.4096, Normalization 1 ?= : 0.99, Duration : 0.63\n",
            "Epoch [28/50], Loss: -0.2662, Perplexity: 217.27, CE 5.3812, Normalization 1 ?= : 0.99, Duration : 0.62\n",
            "Epoch [29/50], Loss: -0.2480, Perplexity: 211.37, CE 5.3536, Normalization 1 ?= : 0.99, Duration : 0.63\n",
            "Epoch [30/50], Loss: -0.2621, Perplexity: 205.78, CE 5.3268, Normalization 1 ?= : 0.99, Duration : 0.63\n",
            "Epoch [31/50], Loss: -0.2598, Perplexity: 200.41, CE 5.3003, Normalization 1 ?= : 0.99, Duration : 0.63\n",
            "Epoch [32/50], Loss: -0.2949, Perplexity: 195.28, CE 5.2744, Normalization 1 ?= : 0.99, Duration : 0.63\n",
            "Epoch [33/50], Loss: -0.2886, Perplexity: 190.36, CE 5.2489, Normalization 1 ?= : 0.99, Duration : 0.63\n",
            "Epoch [34/50], Loss: -0.2474, Perplexity: 185.58, CE 5.2235, Normalization 1 ?= : 0.99, Duration : 0.63\n",
            "Epoch [35/50], Loss: -0.2516, Perplexity: 181.13, CE 5.1992, Normalization 1 ?= : 0.98, Duration : 0.63\n",
            "Epoch [36/50], Loss: -0.2591, Perplexity: 176.93, CE 5.1757, Normalization 1 ?= : 0.98, Duration : 0.63\n",
            "Epoch [37/50], Loss: -0.2441, Perplexity: 172.99, CE 5.1533, Normalization 1 ?= : 0.98, Duration : 0.63\n",
            "Epoch [38/50], Loss: -0.2411, Perplexity: 169.21, CE 5.1312, Normalization 1 ?= : 0.98, Duration : 0.63\n",
            "Epoch [39/50], Loss: -0.2669, Perplexity: 165.60, CE 5.1096, Normalization 1 ?= : 0.98, Duration : 0.63\n",
            "Epoch [40/50], Loss: -0.2434, Perplexity: 162.23, CE 5.0890, Normalization 1 ?= : 0.98, Duration : 0.63\n",
            "Epoch [41/50], Loss: -0.2510, Perplexity: 159.00, CE 5.0689, Normalization 1 ?= : 0.98, Duration : 0.63\n",
            "Epoch [42/50], Loss: -0.2869, Perplexity: 155.93, CE 5.0494, Normalization 1 ?= : 0.98, Duration : 0.63\n",
            "Epoch [43/50], Loss: -0.2771, Perplexity: 152.99, CE 5.0303, Normalization 1 ?= : 0.98, Duration : 0.63\n",
            "Epoch [44/50], Loss: -0.2960, Perplexity: 150.16, CE 5.0117, Normalization 1 ?= : 0.98, Duration : 0.63\n",
            "Epoch [45/50], Loss: -0.2814, Perplexity: 147.46, CE 4.9936, Normalization 1 ?= : 0.98, Duration : 0.63\n",
            "Epoch [46/50], Loss: -0.2786, Perplexity: 144.89, CE 4.9760, Normalization 1 ?= : 0.98, Duration : 0.62\n",
            "Epoch [47/50], Loss: -0.2697, Perplexity: 142.40, CE 4.9586, Normalization 1 ?= : 0.98, Duration : 0.63\n",
            "Epoch [48/50], Loss: -0.2832, Perplexity: 140.01, CE 4.9417, Normalization 1 ?= : 0.98, Duration : 0.63\n",
            "Epoch [49/50], Loss: -0.1965, Perplexity: 137.74, CE 4.9253, Normalization 1 ?= : 0.97, Duration : 0.63\n",
            "Epoch [50/50], Loss: -0.2336, Perplexity: 135.57, CE 4.9095, Normalization 1 ?= : 0.98, Duration : 0.63\n",
            "\n",
            "==================================\n",
            "Test\n",
            "==================================\n",
            "Perplexity: 164.30, CE 5.1017, Duration : 0.00\n",
            "-----------------------------------------------------\n",
            "Epoch [1/50], Loss: 0.1152, Perplexity: 1772.20, CE 7.4800, Normalization 1 ?= : 1.01, Duration : 0.63\n",
            "Epoch [2/50], Loss: 0.0014, Perplexity: 718.14, CE 6.5767, Normalization 1 ?= : 1.01, Duration : 0.62\n",
            "Epoch [3/50], Loss: -0.0374, Perplexity: 714.20, CE 6.5712, Normalization 1 ?= : 1.01, Duration : 0.62\n",
            "Epoch [4/50], Loss: -0.1852, Perplexity: 696.96, CE 6.5467, Normalization 1 ?= : 1.02, Duration : 0.63\n",
            "Epoch [5/50], Loss: -0.3532, Perplexity: 638.96, CE 6.4598, Normalization 1 ?= : 1.03, Duration : 0.63\n",
            "Epoch [6/50], Loss: -0.3794, Perplexity: 555.13, CE 6.3192, Normalization 1 ?= : 1.03, Duration : 0.62\n",
            "Epoch [7/50], Loss: -0.3560, Perplexity: 485.90, CE 6.1860, Normalization 1 ?= : 1.02, Duration : 0.63\n",
            "Epoch [8/50], Loss: -0.3343, Perplexity: 435.78, CE 6.0771, Normalization 1 ?= : 1.01, Duration : 0.63\n",
            "Epoch [9/50], Loss: -0.3498, Perplexity: 397.38, CE 5.9849, Normalization 1 ?= : 1.01, Duration : 0.63\n",
            "Epoch [10/50], Loss: -0.3329, Perplexity: 366.03, CE 5.9027, Normalization 1 ?= : 1.01, Duration : 0.63\n",
            "Epoch [11/50], Loss: -0.3324, Perplexity: 339.82, CE 5.8284, Normalization 1 ?= : 1.01, Duration : 0.63\n",
            "Epoch [12/50], Loss: -0.3187, Perplexity: 317.81, CE 5.7615, Normalization 1 ?= : 1.00, Duration : 0.63\n",
            "Epoch [13/50], Loss: -0.3066, Perplexity: 299.17, CE 5.7010, Normalization 1 ?= : 1.00, Duration : 0.63\n",
            "Epoch [14/50], Loss: -0.3162, Perplexity: 283.21, CE 5.6462, Normalization 1 ?= : 1.00, Duration : 0.63\n",
            "Epoch [15/50], Loss: -0.3156, Perplexity: 269.34, CE 5.5960, Normalization 1 ?= : 1.00, Duration : 0.62\n",
            "Epoch [16/50], Loss: -0.3109, Perplexity: 257.13, CE 5.5496, Normalization 1 ?= : 1.00, Duration : 0.63\n",
            "Epoch [17/50], Loss: -0.2900, Perplexity: 246.28, CE 5.5065, Normalization 1 ?= : 0.99, Duration : 0.63\n",
            "Epoch [18/50], Loss: -0.2730, Perplexity: 236.46, CE 5.4658, Normalization 1 ?= : 0.99, Duration : 0.63\n",
            "Epoch [19/50], Loss: -0.2721, Perplexity: 227.59, CE 5.4276, Normalization 1 ?= : 0.99, Duration : 0.63\n",
            "Epoch [20/50], Loss: -0.2786, Perplexity: 219.50, CE 5.3913, Normalization 1 ?= : 0.99, Duration : 0.63\n",
            "Epoch [21/50], Loss: -0.2676, Perplexity: 212.10, CE 5.3571, Normalization 1 ?= : 0.99, Duration : 0.63\n",
            "Epoch [22/50], Loss: -0.2735, Perplexity: 205.26, CE 5.3243, Normalization 1 ?= : 0.99, Duration : 0.63\n",
            "Epoch [23/50], Loss: -0.2750, Perplexity: 198.95, CE 5.2931, Normalization 1 ?= : 0.99, Duration : 0.63\n",
            "Epoch [24/50], Loss: -0.2712, Perplexity: 193.09, CE 5.2631, Normalization 1 ?= : 0.99, Duration : 0.63\n",
            "Epoch [25/50], Loss: -0.2693, Perplexity: 187.59, CE 5.2342, Normalization 1 ?= : 0.99, Duration : 0.63\n",
            "Epoch [26/50], Loss: -0.2836, Perplexity: 182.45, CE 5.2065, Normalization 1 ?= : 0.99, Duration : 0.63\n",
            "Epoch [27/50], Loss: -0.2920, Perplexity: 177.60, CE 5.1795, Normalization 1 ?= : 0.99, Duration : 0.63\n",
            "Epoch [28/50], Loss: -0.2791, Perplexity: 173.04, CE 5.1535, Normalization 1 ?= : 0.99, Duration : 0.63\n",
            "Epoch [29/50], Loss: -0.2642, Perplexity: 168.75, CE 5.1284, Normalization 1 ?= : 0.99, Duration : 0.63\n",
            "Epoch [30/50], Loss: -0.2910, Perplexity: 164.68, CE 5.1040, Normalization 1 ?= : 0.99, Duration : 0.63\n",
            "Epoch [31/50], Loss: -0.2974, Perplexity: 160.85, CE 5.0805, Normalization 1 ?= : 0.99, Duration : 0.63\n",
            "Epoch [32/50], Loss: -0.2855, Perplexity: 157.25, CE 5.0578, Normalization 1 ?= : 0.99, Duration : 0.64\n",
            "Epoch [33/50], Loss: -0.2541, Perplexity: 153.84, CE 5.0359, Normalization 1 ?= : 0.98, Duration : 0.63\n",
            "Epoch [34/50], Loss: -0.2922, Perplexity: 150.60, CE 5.0146, Normalization 1 ?= : 0.98, Duration : 0.63\n",
            "Epoch [35/50], Loss: -0.2845, Perplexity: 147.51, CE 4.9939, Normalization 1 ?= : 0.98, Duration : 0.62\n",
            "Epoch [36/50], Loss: -0.2857, Perplexity: 144.58, CE 4.9738, Normalization 1 ?= : 0.98, Duration : 0.63\n",
            "Epoch [37/50], Loss: -0.2339, Perplexity: 141.75, CE 4.9541, Normalization 1 ?= : 0.98, Duration : 0.62\n",
            "Epoch [38/50], Loss: -0.2705, Perplexity: 139.08, CE 4.9351, Normalization 1 ?= : 0.98, Duration : 0.63\n",
            "Epoch [39/50], Loss: -0.2596, Perplexity: 136.53, CE 4.9165, Normalization 1 ?= : 0.98, Duration : 0.63\n",
            "Epoch [40/50], Loss: -0.2695, Perplexity: 134.08, CE 4.8984, Normalization 1 ?= : 0.98, Duration : 0.63\n",
            "Epoch [41/50], Loss: -0.2899, Perplexity: 131.74, CE 4.8809, Normalization 1 ?= : 0.98, Duration : 0.63\n",
            "Epoch [42/50], Loss: -0.2835, Perplexity: 129.48, CE 4.8636, Normalization 1 ?= : 0.98, Duration : 0.63\n",
            "Epoch [43/50], Loss: -0.2638, Perplexity: 127.30, CE 4.8466, Normalization 1 ?= : 0.98, Duration : 0.63\n",
            "Epoch [44/50], Loss: -0.2961, Perplexity: 125.19, CE 4.8299, Normalization 1 ?= : 0.98, Duration : 0.63\n",
            "Epoch [45/50], Loss: -0.2914, Perplexity: 123.15, CE 4.8134, Normalization 1 ?= : 0.97, Duration : 0.63\n",
            "Epoch [46/50], Loss: -0.2529, Perplexity: 121.22, CE 4.7976, Normalization 1 ?= : 0.98, Duration : 0.63\n",
            "Epoch [47/50], Loss: -0.2833, Perplexity: 119.34, CE 4.7820, Normalization 1 ?= : 0.98, Duration : 0.63\n",
            "Epoch [48/50], Loss: -0.2721, Perplexity: 117.54, CE 4.7668, Normalization 1 ?= : 0.97, Duration : 0.63\n",
            "Epoch [49/50], Loss: -0.3027, Perplexity: 115.79, CE 4.7518, Normalization 1 ?= : 0.97, Duration : 0.63\n",
            "Epoch [50/50], Loss: -0.2717, Perplexity: 114.12, CE 4.7372, Normalization 1 ?= : 0.97, Duration : 0.62\n",
            "\n",
            "==================================\n",
            "Test\n",
            "==================================\n",
            "Perplexity: 152.02, CE 5.0240, Duration : 0.00\n",
            "-----------------------------------------------------\n",
            "Epoch [1/50], Loss: 0.3088, Perplexity: 1493.19, CE 7.3087, Normalization 1 ?= : 0.99, Duration : 0.63\n",
            "Epoch [2/50], Loss: 0.1419, Perplexity: 653.98, CE 6.4831, Normalization 1 ?= : 0.97, Duration : 0.63\n",
            "Epoch [3/50], Loss: -0.0542, Perplexity: 536.27, CE 6.2846, Normalization 1 ?= : 0.98, Duration : 0.63\n",
            "Epoch [4/50], Loss: -0.1632, Perplexity: 442.18, CE 6.0917, Normalization 1 ?= : 0.99, Duration : 0.63\n",
            "Epoch [5/50], Loss: -0.2034, Perplexity: 376.84, CE 5.9318, Normalization 1 ?= : 0.99, Duration : 0.63\n",
            "Epoch [6/50], Loss: -0.2468, Perplexity: 332.02, CE 5.8052, Normalization 1 ?= : 1.00, Duration : 0.63\n",
            "Epoch [7/50], Loss: -0.2619, Perplexity: 299.69, CE 5.7028, Normalization 1 ?= : 1.00, Duration : 0.63\n",
            "Epoch [8/50], Loss: -0.2844, Perplexity: 275.06, CE 5.6170, Normalization 1 ?= : 1.00, Duration : 0.63\n",
            "Epoch [9/50], Loss: -0.2920, Perplexity: 255.66, CE 5.5438, Normalization 1 ?= : 1.00, Duration : 0.63\n",
            "Epoch [10/50], Loss: -0.2850, Perplexity: 239.83, CE 5.4799, Normalization 1 ?= : 1.00, Duration : 0.63\n",
            "Epoch [11/50], Loss: -0.2738, Perplexity: 226.65, CE 5.4234, Normalization 1 ?= : 1.00, Duration : 0.63\n",
            "Epoch [12/50], Loss: -0.2852, Perplexity: 215.48, CE 5.3729, Normalization 1 ?= : 1.00, Duration : 0.63\n",
            "Epoch [13/50], Loss: -0.2703, Perplexity: 205.79, CE 5.3268, Normalization 1 ?= : 0.99, Duration : 0.63\n",
            "Epoch [14/50], Loss: -0.2917, Perplexity: 197.25, CE 5.2845, Normalization 1 ?= : 0.99, Duration : 0.63\n",
            "Epoch [15/50], Loss: -0.2869, Perplexity: 189.69, CE 5.2454, Normalization 1 ?= : 0.99, Duration : 0.63\n",
            "Epoch [16/50], Loss: -0.2712, Perplexity: 182.88, CE 5.2088, Normalization 1 ?= : 0.99, Duration : 0.63\n",
            "Epoch [17/50], Loss: -0.2805, Perplexity: 176.70, CE 5.1744, Normalization 1 ?= : 0.99, Duration : 0.63\n",
            "Epoch [18/50], Loss: -0.2706, Perplexity: 171.10, CE 5.1423, Normalization 1 ?= : 0.99, Duration : 0.62\n",
            "Epoch [19/50], Loss: -0.2859, Perplexity: 165.97, CE 5.1118, Normalization 1 ?= : 0.99, Duration : 0.63\n",
            "Epoch [20/50], Loss: -0.2598, Perplexity: 161.19, CE 5.0826, Normalization 1 ?= : 0.98, Duration : 0.63\n",
            "Epoch [21/50], Loss: -0.2590, Perplexity: 156.80, CE 5.0550, Normalization 1 ?= : 0.98, Duration : 0.63\n",
            "Epoch [22/50], Loss: -0.2534, Perplexity: 152.69, CE 5.0284, Normalization 1 ?= : 0.98, Duration : 0.63\n",
            "Epoch [23/50], Loss: -0.2467, Perplexity: 148.85, CE 5.0029, Normalization 1 ?= : 0.98, Duration : 0.63\n",
            "Epoch [24/50], Loss: -0.2616, Perplexity: 145.25, CE 4.9785, Normalization 1 ?= : 0.98, Duration : 0.63\n",
            "Epoch [25/50], Loss: -0.2452, Perplexity: 141.86, CE 4.9548, Normalization 1 ?= : 0.98, Duration : 0.64\n",
            "Epoch [26/50], Loss: -0.2332, Perplexity: 138.68, CE 4.9322, Normalization 1 ?= : 0.97, Duration : 0.63\n",
            "Epoch [27/50], Loss: -0.2291, Perplexity: 135.65, CE 4.9101, Normalization 1 ?= : 0.97, Duration : 0.63\n",
            "Epoch [28/50], Loss: -0.2570, Perplexity: 132.81, CE 4.8889, Normalization 1 ?= : 0.97, Duration : 0.63\n",
            "Epoch [29/50], Loss: -0.2511, Perplexity: 130.06, CE 4.8680, Normalization 1 ?= : 0.97, Duration : 0.63\n",
            "Epoch [30/50], Loss: -0.2557, Perplexity: 127.51, CE 4.8482, Normalization 1 ?= : 0.97, Duration : 0.63\n",
            "Epoch [31/50], Loss: -0.2493, Perplexity: 125.06, CE 4.8288, Normalization 1 ?= : 0.97, Duration : 0.63\n",
            "Epoch [32/50], Loss: -0.2430, Perplexity: 122.71, CE 4.8098, Normalization 1 ?= : 0.97, Duration : 0.63\n",
            "Epoch [33/50], Loss: -0.2529, Perplexity: 120.46, CE 4.7914, Normalization 1 ?= : 0.97, Duration : 0.63\n",
            "Epoch [34/50], Loss: -0.2699, Perplexity: 118.34, CE 4.7736, Normalization 1 ?= : 0.97, Duration : 0.63\n",
            "Epoch [35/50], Loss: -0.2586, Perplexity: 116.28, CE 4.7560, Normalization 1 ?= : 0.97, Duration : 0.63\n",
            "Epoch [36/50], Loss: -0.2553, Perplexity: 114.33, CE 4.7391, Normalization 1 ?= : 0.97, Duration : 0.63\n",
            "Epoch [37/50], Loss: -0.2753, Perplexity: 112.46, CE 4.7226, Normalization 1 ?= : 0.97, Duration : 0.63\n",
            "Epoch [38/50], Loss: -0.2648, Perplexity: 110.64, CE 4.7063, Normalization 1 ?= : 0.97, Duration : 0.62\n",
            "Epoch [39/50], Loss: -0.2673, Perplexity: 108.90, CE 4.6904, Normalization 1 ?= : 0.97, Duration : 0.63\n",
            "Epoch [40/50], Loss: -0.2680, Perplexity: 107.21, CE 4.6748, Normalization 1 ?= : 0.97, Duration : 0.63\n",
            "Epoch [41/50], Loss: -0.2777, Perplexity: 105.57, CE 4.6594, Normalization 1 ?= : 0.97, Duration : 0.62\n",
            "Epoch [42/50], Loss: -0.2711, Perplexity: 104.03, CE 4.6447, Normalization 1 ?= : 0.97, Duration : 0.63\n",
            "Epoch [43/50], Loss: -0.2761, Perplexity: 102.51, CE 4.6299, Normalization 1 ?= : 0.98, Duration : 0.63\n",
            "Epoch [44/50], Loss: -0.2659, Perplexity: 101.04, CE 4.6156, Normalization 1 ?= : 0.97, Duration : 0.63\n",
            "Epoch [45/50], Loss: -0.2734, Perplexity: 99.66, CE 4.6018, Normalization 1 ?= : 0.97, Duration : 0.63\n",
            "Epoch [46/50], Loss: -0.2789, Perplexity: 98.30, CE 4.5880, Normalization 1 ?= : 0.97, Duration : 0.63\n",
            "Epoch [47/50], Loss: -0.2903, Perplexity: 96.98, CE 4.5745, Normalization 1 ?= : 0.98, Duration : 0.63\n",
            "Epoch [48/50], Loss: -0.2930, Perplexity: 95.70, CE 4.5612, Normalization 1 ?= : 0.98, Duration : 0.63\n",
            "Epoch [49/50], Loss: -0.2791, Perplexity: 94.48, CE 4.5484, Normalization 1 ?= : 0.98, Duration : 0.63\n",
            "Epoch [50/50], Loss: -0.2929, Perplexity: 93.29, CE 4.5357, Normalization 1 ?= : 0.98, Duration : 0.63\n",
            "\n",
            "==================================\n",
            "Test\n",
            "==================================\n",
            "Perplexity: 143.15, CE 4.9639, Duration : 0.00\n",
            "-----------------------------------------------------\n",
            "Epoch [1/50], Loss: 0.7291, Perplexity: 2017.56, CE 7.6096, Normalization 1 ?= : 1.04, Duration : 0.63\n",
            "Epoch [2/50], Loss: 0.4008, Perplexity: 743.97, CE 6.6120, Normalization 1 ?= : 0.98, Duration : 0.63\n",
            "Epoch [3/50], Loss: 0.2723, Perplexity: 683.41, CE 6.5271, Normalization 1 ?= : 0.98, Duration : 0.63\n",
            "Epoch [4/50], Loss: 0.2220, Perplexity: 627.67, CE 6.4420, Normalization 1 ?= : 0.97, Duration : 0.63\n",
            "Epoch [5/50], Loss: 0.1863, Perplexity: 569.30, CE 6.3444, Normalization 1 ?= : 0.97, Duration : 0.63\n",
            "Epoch [6/50], Loss: 0.0712, Perplexity: 509.23, CE 6.2329, Normalization 1 ?= : 0.98, Duration : 0.63\n",
            "Epoch [7/50], Loss: 0.0086, Perplexity: 453.48, CE 6.1170, Normalization 1 ?= : 0.97, Duration : 0.63\n",
            "Epoch [8/50], Loss: -0.0732, Perplexity: 405.93, CE 6.0062, Normalization 1 ?= : 0.98, Duration : 0.63\n",
            "Epoch [9/50], Loss: -0.1236, Perplexity: 367.29, CE 5.9061, Normalization 1 ?= : 0.98, Duration : 0.63\n",
            "Epoch [10/50], Loss: -0.1425, Perplexity: 336.68, CE 5.8191, Normalization 1 ?= : 0.98, Duration : 0.63\n",
            "Epoch [11/50], Loss: -0.1569, Perplexity: 312.35, CE 5.7441, Normalization 1 ?= : 0.98, Duration : 0.63\n",
            "Epoch [12/50], Loss: -0.1627, Perplexity: 292.24, CE 5.6776, Normalization 1 ?= : 0.98, Duration : 0.63\n",
            "Epoch [13/50], Loss: -0.1818, Perplexity: 275.54, CE 5.6187, Normalization 1 ?= : 0.98, Duration : 0.63\n",
            "Epoch [14/50], Loss: -0.1965, Perplexity: 261.35, CE 5.5659, Normalization 1 ?= : 0.99, Duration : 0.62\n",
            "Epoch [15/50], Loss: -0.2241, Perplexity: 249.05, CE 5.5177, Normalization 1 ?= : 0.99, Duration : 0.63\n",
            "Epoch [16/50], Loss: -0.2177, Perplexity: 238.28, CE 5.4734, Normalization 1 ?= : 0.98, Duration : 0.63\n",
            "Epoch [17/50], Loss: -0.2304, Perplexity: 228.69, CE 5.4324, Normalization 1 ?= : 0.99, Duration : 0.62\n",
            "Epoch [18/50], Loss: -0.2451, Perplexity: 220.07, CE 5.3939, Normalization 1 ?= : 0.99, Duration : 0.63\n",
            "Epoch [19/50], Loss: -0.2371, Perplexity: 212.20, CE 5.3575, Normalization 1 ?= : 0.98, Duration : 0.63\n",
            "Epoch [20/50], Loss: -0.2511, Perplexity: 204.99, CE 5.3229, Normalization 1 ?= : 0.99, Duration : 0.63\n",
            "Epoch [21/50], Loss: -0.2379, Perplexity: 198.39, CE 5.2902, Normalization 1 ?= : 0.99, Duration : 0.63\n",
            "Epoch [22/50], Loss: -0.2360, Perplexity: 192.26, CE 5.2589, Normalization 1 ?= : 0.99, Duration : 0.63\n",
            "Epoch [23/50], Loss: -0.2563, Perplexity: 186.64, CE 5.2292, Normalization 1 ?= : 0.99, Duration : 0.63\n",
            "Epoch [24/50], Loss: -0.2513, Perplexity: 181.41, CE 5.2008, Normalization 1 ?= : 0.99, Duration : 0.63\n",
            "Epoch [25/50], Loss: -0.2582, Perplexity: 176.56, CE 5.1737, Normalization 1 ?= : 0.99, Duration : 0.62\n",
            "Epoch [26/50], Loss: -0.2484, Perplexity: 172.01, CE 5.1475, Normalization 1 ?= : 0.98, Duration : 0.63\n",
            "Epoch [27/50], Loss: -0.2677, Perplexity: 167.73, CE 5.1223, Normalization 1 ?= : 0.99, Duration : 0.63\n",
            "Epoch [28/50], Loss: -0.2512, Perplexity: 163.73, CE 5.0982, Normalization 1 ?= : 0.99, Duration : 0.63\n",
            "Epoch [29/50], Loss: -0.2860, Perplexity: 159.94, CE 5.0748, Normalization 1 ?= : 0.99, Duration : 0.63\n",
            "Epoch [30/50], Loss: -0.2717, Perplexity: 156.35, CE 5.0521, Normalization 1 ?= : 0.98, Duration : 0.63\n",
            "Epoch [31/50], Loss: -0.2795, Perplexity: 153.00, CE 5.0305, Normalization 1 ?= : 0.99, Duration : 0.62\n",
            "Epoch [32/50], Loss: -0.2932, Perplexity: 149.79, CE 5.0092, Normalization 1 ?= : 0.99, Duration : 0.63\n",
            "Epoch [33/50], Loss: -0.3198, Perplexity: 146.74, CE 4.9887, Normalization 1 ?= : 0.99, Duration : 0.63\n",
            "Epoch [34/50], Loss: -0.3115, Perplexity: 143.87, CE 4.9689, Normalization 1 ?= : 0.99, Duration : 0.63\n",
            "Epoch [35/50], Loss: -0.2909, Perplexity: 141.14, CE 4.9497, Normalization 1 ?= : 0.99, Duration : 0.63\n",
            "Epoch [36/50], Loss: -0.2802, Perplexity: 138.52, CE 4.9310, Normalization 1 ?= : 0.99, Duration : 0.63\n",
            "Epoch [37/50], Loss: -0.2975, Perplexity: 136.04, CE 4.9129, Normalization 1 ?= : 0.99, Duration : 0.62\n",
            "Epoch [38/50], Loss: -0.3003, Perplexity: 133.66, CE 4.8953, Normalization 1 ?= : 0.99, Duration : 0.62\n",
            "Epoch [39/50], Loss: -0.3008, Perplexity: 131.41, CE 4.8783, Normalization 1 ?= : 0.99, Duration : 0.64\n",
            "Epoch [40/50], Loss: -0.3015, Perplexity: 129.25, CE 4.8617, Normalization 1 ?= : 0.99, Duration : 0.63\n",
            "Epoch [41/50], Loss: -0.3213, Perplexity: 127.21, CE 4.8459, Normalization 1 ?= : 0.99, Duration : 0.63\n",
            "Epoch [42/50], Loss: -0.3057, Perplexity: 125.23, CE 4.8301, Normalization 1 ?= : 0.99, Duration : 0.63\n",
            "Epoch [43/50], Loss: -0.3000, Perplexity: 123.32, CE 4.8148, Normalization 1 ?= : 0.99, Duration : 0.63\n",
            "Epoch [44/50], Loss: -0.2998, Perplexity: 121.47, CE 4.7997, Normalization 1 ?= : 0.99, Duration : 0.63\n",
            "Epoch [45/50], Loss: -0.3039, Perplexity: 119.69, CE 4.7849, Normalization 1 ?= : 0.99, Duration : 0.63\n",
            "Epoch [46/50], Loss: -0.2850, Perplexity: 117.99, CE 4.7706, Normalization 1 ?= : 0.98, Duration : 0.62\n",
            "Epoch [47/50], Loss: -0.3027, Perplexity: 116.36, CE 4.7567, Normalization 1 ?= : 0.98, Duration : 0.63\n",
            "Epoch [48/50], Loss: -0.2919, Perplexity: 114.79, CE 4.7431, Normalization 1 ?= : 0.98, Duration : 0.63\n",
            "Epoch [49/50], Loss: -0.2763, Perplexity: 113.26, CE 4.7297, Normalization 1 ?= : 0.98, Duration : 0.63\n",
            "Epoch [50/50], Loss: -0.2947, Perplexity: 111.78, CE 4.7165, Normalization 1 ?= : 0.98, Duration : 0.63\n",
            "\n",
            "==================================\n",
            "Test\n",
            "==================================\n",
            "Perplexity: 150.95, CE 5.0170, Duration : 0.00\n",
            "-----------------------------------------------------\n",
            "Epoch [1/50], Loss: 10.5815, Perplexity: 2181.73, CE 7.6879, Normalization 1 ?= : 0.03, Duration : 0.63\n",
            "Epoch [2/50], Loss: 1.1523, Perplexity: 1081.03, CE 6.9857, Normalization 1 ?= : 0.93, Duration : 0.63\n",
            "Epoch [3/50], Loss: 0.5116, Perplexity: 774.58, CE 6.6523, Normalization 1 ?= : 0.98, Duration : 0.63\n",
            "Epoch [4/50], Loss: 0.3679, Perplexity: 728.12, CE 6.5905, Normalization 1 ?= : 0.98, Duration : 0.63\n",
            "Epoch [5/50], Loss: 0.2973, Perplexity: 704.81, CE 6.5579, Normalization 1 ?= : 0.99, Duration : 0.63\n",
            "Epoch [6/50], Loss: 0.2854, Perplexity: 686.31, CE 6.5313, Normalization 1 ?= : 0.99, Duration : 0.63\n",
            "Epoch [7/50], Loss: 0.3205, Perplexity: 667.77, CE 6.5039, Normalization 1 ?= : 0.98, Duration : 0.63\n",
            "Epoch [8/50], Loss: 0.2049, Perplexity: 642.14, CE 6.4648, Normalization 1 ?= : 0.99, Duration : 0.63\n",
            "Epoch [9/50], Loss: 0.2583, Perplexity: 607.98, CE 6.4101, Normalization 1 ?= : 0.97, Duration : 0.63\n",
            "Epoch [10/50], Loss: 0.1591, Perplexity: 566.38, CE 6.3393, Normalization 1 ?= : 0.98, Duration : 0.63\n",
            "Epoch [11/50], Loss: 0.1138, Perplexity: 520.20, CE 6.2542, Normalization 1 ?= : 0.98, Duration : 0.64\n",
            "Epoch [12/50], Loss: 0.1269, Perplexity: 475.68, CE 6.1648, Normalization 1 ?= : 0.97, Duration : 0.63\n",
            "Epoch [13/50], Loss: 0.0149, Perplexity: 436.65, CE 6.0791, Normalization 1 ?= : 0.98, Duration : 0.63\n",
            "Epoch [14/50], Loss: -0.0211, Perplexity: 403.01, CE 5.9990, Normalization 1 ?= : 0.98, Duration : 0.63\n",
            "Epoch [15/50], Loss: -0.0565, Perplexity: 373.99, CE 5.9242, Normalization 1 ?= : 0.98, Duration : 0.63\n",
            "Epoch [16/50], Loss: -0.1076, Perplexity: 349.41, CE 5.8562, Normalization 1 ?= : 0.99, Duration : 0.62\n",
            "Epoch [17/50], Loss: -0.1333, Perplexity: 328.82, CE 5.7955, Normalization 1 ?= : 0.98, Duration : 0.63\n",
            "Epoch [18/50], Loss: -0.1622, Perplexity: 311.15, CE 5.7403, Normalization 1 ?= : 0.99, Duration : 0.62\n",
            "Epoch [19/50], Loss: -0.1691, Perplexity: 296.15, CE 5.6909, Normalization 1 ?= : 0.99, Duration : 0.63\n",
            "Epoch [20/50], Loss: -0.1982, Perplexity: 283.13, CE 5.6459, Normalization 1 ?= : 0.99, Duration : 0.63\n",
            "Epoch [21/50], Loss: -0.1816, Perplexity: 271.70, CE 5.6047, Normalization 1 ?= : 0.99, Duration : 0.63\n",
            "Epoch [22/50], Loss: -0.2069, Perplexity: 261.48, CE 5.5664, Normalization 1 ?= : 0.99, Duration : 0.63\n",
            "Epoch [23/50], Loss: -0.1959, Perplexity: 252.06, CE 5.5297, Normalization 1 ?= : 0.99, Duration : 0.63\n",
            "Epoch [24/50], Loss: -0.2208, Perplexity: 243.54, CE 5.4953, Normalization 1 ?= : 0.99, Duration : 0.63\n",
            "Epoch [25/50], Loss: -0.2263, Perplexity: 235.75, CE 5.4628, Normalization 1 ?= : 0.99, Duration : 0.63\n",
            "Epoch [26/50], Loss: -0.2140, Perplexity: 228.62, CE 5.4320, Normalization 1 ?= : 0.98, Duration : 0.63\n",
            "Epoch [27/50], Loss: -0.2398, Perplexity: 222.03, CE 5.4028, Normalization 1 ?= : 0.99, Duration : 0.63\n",
            "Epoch [28/50], Loss: -0.2279, Perplexity: 215.90, CE 5.3748, Normalization 1 ?= : 0.99, Duration : 0.63\n",
            "Epoch [29/50], Loss: -0.2524, Perplexity: 210.15, CE 5.3478, Normalization 1 ?= : 0.99, Duration : 0.63\n",
            "Epoch [30/50], Loss: -0.2389, Perplexity: 204.78, CE 5.3219, Normalization 1 ?= : 0.99, Duration : 0.63\n",
            "Epoch [31/50], Loss: -0.2728, Perplexity: 199.76, CE 5.2971, Normalization 1 ?= : 0.99, Duration : 0.63\n",
            "Epoch [32/50], Loss: -0.2934, Perplexity: 195.04, CE 5.2732, Normalization 1 ?= : 1.00, Duration : 0.62\n",
            "Epoch [33/50], Loss: -0.2760, Perplexity: 190.61, CE 5.2502, Normalization 1 ?= : 1.00, Duration : 0.63\n",
            "Epoch [34/50], Loss: -0.2899, Perplexity: 186.46, CE 5.2282, Normalization 1 ?= : 1.00, Duration : 0.63\n",
            "Epoch [35/50], Loss: -0.3079, Perplexity: 182.54, CE 5.2070, Normalization 1 ?= : 1.00, Duration : 0.62\n",
            "Epoch [36/50], Loss: -0.2746, Perplexity: 178.84, CE 5.1865, Normalization 1 ?= : 0.99, Duration : 0.63\n",
            "Epoch [37/50], Loss: -0.3185, Perplexity: 175.33, CE 5.1666, Normalization 1 ?= : 1.00, Duration : 0.63\n",
            "Epoch [38/50], Loss: -0.3073, Perplexity: 171.98, CE 5.1474, Normalization 1 ?= : 1.00, Duration : 0.63\n",
            "Epoch [39/50], Loss: -0.2883, Perplexity: 168.79, CE 5.1287, Normalization 1 ?= : 0.99, Duration : 0.63\n",
            "Epoch [40/50], Loss: -0.2558, Perplexity: 165.79, CE 5.1107, Normalization 1 ?= : 0.99, Duration : 0.63\n",
            "Epoch [41/50], Loss: -0.2761, Perplexity: 162.91, CE 5.0932, Normalization 1 ?= : 0.99, Duration : 0.63\n",
            "Epoch [42/50], Loss: -0.2796, Perplexity: 160.19, CE 5.0764, Normalization 1 ?= : 1.00, Duration : 0.63\n",
            "Epoch [43/50], Loss: -0.2643, Perplexity: 157.57, CE 5.0599, Normalization 1 ?= : 0.99, Duration : 0.63\n",
            "Epoch [44/50], Loss: -0.2864, Perplexity: 155.06, CE 5.0438, Normalization 1 ?= : 1.00, Duration : 0.63\n",
            "Epoch [45/50], Loss: -0.2702, Perplexity: 152.66, CE 5.0282, Normalization 1 ?= : 0.99, Duration : 0.63\n",
            "Epoch [46/50], Loss: -0.2743, Perplexity: 150.34, CE 5.0129, Normalization 1 ?= : 0.99, Duration : 0.63\n",
            "Epoch [47/50], Loss: -0.2590, Perplexity: 148.13, CE 4.9981, Normalization 1 ?= : 0.99, Duration : 0.63\n",
            "Epoch [48/50], Loss: -0.2629, Perplexity: 146.00, CE 4.9836, Normalization 1 ?= : 0.99, Duration : 0.63\n",
            "Epoch [49/50], Loss: -0.2910, Perplexity: 143.93, CE 4.9693, Normalization 1 ?= : 1.00, Duration : 0.63\n",
            "Epoch [50/50], Loss: -0.2585, Perplexity: 141.94, CE 4.9554, Normalization 1 ?= : 0.99, Duration : 0.63\n",
            "\n",
            "==================================\n",
            "Test\n",
            "==================================\n",
            "Perplexity: 170.05, CE 5.1361, Duration : 0.00\n",
            "-----------------------------------------------------\n"
          ]
        }
      ],
      "source": [
        "Q = Categorical(torch.tensor(freqs))\n",
        "dict_loss = {}\n",
        "log_Zs = [np.log(vocab_size) , 0.0 , 5.0 , 10.0 , 15.0 , 20.0]\n",
        "\n",
        "for logZ in log_Zs:\n",
        "    model = lm(vocab_size, embed_size, hidden_size, num_layers).to(device)\n",
        "    nce_loss = NCELoss(Q = Q , train_partition = True, log_Z = logZ).to(device)\n",
        "    optimizer = torch.optim.Adam(list(model.parameters()) + list(nce_loss.parameters()), lr= 1e-3)\n",
        "    model, nce_ce_non_unis ,nce_non_uni_parts = train(model,\n",
        "                                                      optimizer,\n",
        "                                                      nce_loss, \n",
        "                                                      (train_sentences, train_masks , batch_size))\n",
        "    \n",
        "    dict_loss[str(logZ)] = (nce_ce_non_unis , nce_non_uni_parts)\n",
        "    print('-----------------------------------------------------')"
      ]
    },
    {
      "cell_type": "markdown",
      "metadata": {
        "id": "lBfsMBrQt97a"
      },
      "source": [
        "## Plot the loss"
      ]
    },
    {
      "cell_type": "code",
      "execution_count": null,
      "metadata": {
        "id": "4rTz1TnqOe2z",
        "outputId": "34bb0c97-46d5-45f7-cfc8-a2c79cb6fab9"
      },
      "outputs": [
        {
          "data": {
            "image/png": "[encoded data removed]",
            "text/plain": [
              "<Figure size 720x504 with 1 Axes>"
            ]
          },
          "metadata": {
            "needs_background": "light"
          },
          "output_type": "display_data"
        }
      ],
      "source": [
        "plt.figure(figsize=(10,7))\n",
        "\n",
        "k = 0\n",
        "for logZ_key, tup in dict_loss.items():\n",
        "    if k==0 :\n",
        "        plt.plot(tup[0] , label = '$\\log (Z_c)$ init = $\\log(|V|)$')\n",
        "    else :\n",
        "        plt.plot(tup[0] , label = '$\\log (Z_c)$ init = ' + str(logZ_key))\n",
        "    k = k + 1\n",
        "\n",
        "plt.xlabel(\"Epochs\")\n",
        "plt.ylabel(\"Cross-Entropy\")\n",
        "plt.legend()\n",
        "plt.show()"
      ]
    },
    {
      "cell_type": "code",
      "execution_count": null,
      "metadata": {
        "id": "IqV2NP2Ct97a"
      },
      "outputs": [],
      "source": [
        ""
      ]
    }
  ],
  "metadata": {
    "accelerator": "GPU",
    "colab": {
      "collapsed_sections": [],
      "name": "ULLAH_CISSE_LANSARI_BOUHOU_code.ipynb",
      "provenance": []
    },
    "kernelspec": {
      "display_name": "Python 3",
      "language": "python",
      "name": "python3"
    },
    "language_info": {
      "codemirror_mode": {
        "name": "ipython",
        "version": 3
      },
      "file_extension": ".py",
      "mimetype": "text/x-python",
      "name": "python",
      "nbconvert_exporter": "python",
      "pygments_lexer": "ipython3",
      "version": "3.8.10"
    }
  },
  "nbformat": 4,
  "nbformat_minor": 0
}